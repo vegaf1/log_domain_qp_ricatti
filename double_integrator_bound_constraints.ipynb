{
 "cells": [
  {
   "cell_type": "code",
   "execution_count": 1,
   "metadata": {},
   "outputs": [
    {
     "name": "stderr",
     "output_type": "stream",
     "text": [
      "\u001b[32m\u001b[1m  Activating\u001b[22m\u001b[39m project at `~/Research/log_domain_ipsolver`\n"
     ]
    }
   ],
   "source": [
    "#log domain ricatti recursion for bound constraint on controls \n",
    "#double integrator example\n",
    "using Pkg\n",
    "Pkg.activate(\".\")"
   ]
  },
  {
   "cell_type": "code",
   "execution_count": 2,
   "metadata": {},
   "outputs": [],
   "source": [
    "#double check the linesearch in this code... may be wrong"
   ]
  },
  {
   "cell_type": "code",
   "execution_count": 3,
   "metadata": {},
   "outputs": [],
   "source": [
    "# here x will be the state [position; velocity ]\n",
    "# u will be the acceleration, σ is the size of the inequality constraints and dependent on it is the size of the control "
   ]
  },
  {
   "cell_type": "code",
   "execution_count": 4,
   "metadata": {},
   "outputs": [],
   "source": [
    "#the only constraint is a set of 2 inequality constraints on the acceleration "
   ]
  },
  {
   "cell_type": "code",
   "execution_count": 5,
   "metadata": {},
   "outputs": [],
   "source": [
    "using LinearAlgebra\n",
    "using ForwardDiff \n",
    "using Plots \n",
    "using SparseArrays "
   ]
  },
  {
   "cell_type": "code",
   "execution_count": 6,
   "metadata": {},
   "outputs": [
    {
     "data": {
      "text/plain": [
       "create_idx (generic function with 1 method)"
      ]
     },
     "metadata": {},
     "output_type": "display_data"
    }
   ],
   "source": [
    "#indexing \n",
    "\n",
    "function create_idx(nx,nu,N)\n",
    "    # This function creates some useful indexing tools for Z \n",
    "    # x_i = Z[idx.x[i]]\n",
    "    # u_i = Z[idx.u[i]]\n",
    "    \n",
    "    #initial condition is assumed to be given \n",
    "\n",
    "    #Z vecotr is [u1, x2, u2, x3, u3, x4...]\n",
    "\n",
    "    nz = (N-1) * nu + (N-1) * nx # length of Z \n",
    "\n",
    "    #σ will be  a part of u. for this example there are 2 sigmas for every u because of the 2 constraints associated to every control input \n",
    "    u = [(i - 1) * (nu + nx) .+ (1 : nu) for i = 1:(N-1)]\n",
    "\n",
    "    x = [(i - 1) * (nu + nx) .+ ((nu + 1):(nu + nx)) for i = 1:(N - 1)]\n",
    "\n",
    "    #indices for the lagrange multiplier corresponding to the dynamics constraints\n",
    "    #this lagrange multipler should be equal to the size of the state\n",
    "    #it is size (nx, N-1)\n",
    "\n",
    "    μ = [(i-1)*(nx) .+ ((nz+1):(nz+nx)) for i = 1:(N-1)]\n",
    "\n",
    "\n",
    "    #indices for the slack variables corresponding to the inequality constraints \n",
    "    #there is (N-1)*nu*n_ineq because there is one for each control value has n_ineq constraints \n",
    "\n",
    "    #σ = [(i-1)*(nu) .+ ((μ[end][end] + 1):(μ[end][end]+nu)) for i=1:nu*n_ineq*(N-1) ]\n",
    "\n",
    "    #nσ is the total number of inequality constraints in the problem \n",
    "\n",
    "    return (nx=nx,nu=nu,N=N,nz=nz,x= x,u = u, μ = μ, nμ = nx*(N-1))\n",
    "end"
   ]
  },
  {
   "cell_type": "code",
   "execution_count": 7,
   "metadata": {},
   "outputs": [],
   "source": [
    "#here the state will be Δx, Δu in a Δz vector, the lagrange multipliers Δμ, and finally the slack for the inequalities\n",
    "#with the log domain substitutions Δσ"
   ]
  },
  {
   "cell_type": "code",
   "execution_count": 8,
   "metadata": {},
   "outputs": [
    {
     "data": {
      "text/plain": [
       "2×3 Matrix{Float64}:\n",
       " 0.005  0.0  0.0\n",
       " 0.1    0.0  0.0"
      ]
     },
     "metadata": {},
     "output_type": "display_data"
    }
   ],
   "source": [
    "# Discrete dynamics\n",
    "h = 0.1   # time step\n",
    "\n",
    "#for one timestep\n",
    "A = [1 h; 0 1]\n",
    "B_normal = [0.5*h*h; h]\n",
    "\n",
    "#B will be a 2x3 matrix now since every u containts 2 sigmas \n",
    "B = [B_normal zeros(2,2)]"
   ]
  },
  {
   "cell_type": "code",
   "execution_count": 9,
   "metadata": {},
   "outputs": [],
   "source": [
    "n_ineq = 2\n",
    "nx = 2     # number of state\n",
    "#number of true controls \n",
    "nc = 1\n",
    "\n",
    "#size of agumented control vector with the sigmas \n",
    "nu = 1 + n_ineq    \n",
    "\n",
    "#this is the number of inequality constraint per control step \n",
    "#since this is just for bounds, there are two inequalities \n",
    "#Tfinal = 10.0 # final time (orignal )\n",
    "\n",
    "#will make it shorter...\n",
    "Tfinal = 5.0 # final time (testing )\n",
    "\n",
    "N = Int(Tfinal/h)+1    # number of time steps\n",
    "thist = Array(range(0,h*(N-1), step=h));"
   ]
  },
  {
   "cell_type": "code",
   "execution_count": 10,
   "metadata": {},
   "outputs": [
    {
     "data": {
      "text/plain": [
       "(nx = 2, nu = 3, N = 51, nz = 250, x = UnitRange{Int64}[4:5, 9:10, 14:15, 19:20, 24:25, 29:30, 34:35, 39:40, 44:45, 49:50  …  204:205, 209:210, 214:215, 219:220, 224:225, 229:230, 234:235, 239:240, 244:245, 249:250], u = UnitRange{Int64}[1:3, 6:8, 11:13, 16:18, 21:23, 26:28, 31:33, 36:38, 41:43, 46:48  …  201:203, 206:208, 211:213, 216:218, 221:223, 226:228, 231:233, 236:238, 241:243, 246:248], μ = UnitRange{Int64}[251:252, 253:254, 255:256, 257:258, 259:260, 261:262, 263:264, 265:266, 267:268, 269:270  …  331:332, 333:334, 335:336, 337:338, 339:340, 341:342, 343:344, 345:346, 347:348, 349:350], nμ = 100)"
      ]
     },
     "metadata": {},
     "output_type": "display_data"
    }
   ],
   "source": [
    "idx = create_idx(nx,nu,N)"
   ]
  },
  {
   "cell_type": "code",
   "execution_count": 11,
   "metadata": {},
   "outputs": [
    {
     "data": {
      "text/plain": [
       "1.5"
      ]
     },
     "metadata": {},
     "output_type": "display_data"
    }
   ],
   "source": [
    "# Initial conditions\n",
    "#old initial condtion \n",
    "\n",
    "#not even log domain newton can solve with this initial condition and limits of 20. probably conditioning on σ\n",
    "#x0 = [10.0; 0] \n",
    "\n",
    "# Initial conditions \n",
    "#testing \n",
    "x0 = [1.0; 0.0]\n",
    "\n",
    "#works with this \n",
    "#μ0 = [0.0; 0.0]\n",
    "\n",
    "#put values on μ to test out the residual function \n",
    "μ0 = [0.0; 0.0]\n",
    "\n",
    "u0 = [0.5; 0.01; 0.02]\n",
    "\n",
    "#try new initial guess \n",
    "# u0 = [0.0, 0.0, 0.0]\n",
    "\n",
    "#initial barrier parameter \n",
    "ρ0 = 0.1\n",
    "\n",
    "#define control bounds \n",
    "#umin = -20.0\n",
    "#umax = 20.0\n",
    "\n",
    "#try smaller values for the bounds? \n",
    "#residual does not go down to tight tolerances with large bounds...\n",
    "#umin = -2.5\n",
    "#umax = 2.5\n",
    "\n",
    "umin = -1.5\n",
    "umax = 1.5"
   ]
  },
  {
   "cell_type": "code",
   "execution_count": 12,
   "metadata": {},
   "outputs": [
    {
     "data": {
      "text/plain": [
       "2-element Vector{Float64}:\n",
       " -1.5\n",
       " -1.5"
      ]
     },
     "metadata": {},
     "output_type": "display_data"
    }
   ],
   "source": [
    "#bound constraints for this example \n",
    "# Gu - h - s >= 0 \n",
    "\n",
    "G = [1.0; -1.0] \n",
    "\n",
    "h = [umin; -umax]"
   ]
  },
  {
   "cell_type": "code",
   "execution_count": 13,
   "metadata": {},
   "outputs": [
    {
     "data": {
      "text/plain": [
       "100-element Vector{Float64}:\n",
       " 0.0\n",
       " 0.0\n",
       " 0.0\n",
       " 0.0\n",
       " 0.0\n",
       " 0.0\n",
       " 0.0\n",
       " 0.0\n",
       " 0.0\n",
       " 0.0\n",
       " ⋮\n",
       " 0.0\n",
       " 0.0\n",
       " 0.0\n",
       " 0.0\n",
       " 0.0\n",
       " 0.0\n",
       " 0.0\n",
       " 0.0\n",
       " 0.0"
      ]
     },
     "metadata": {},
     "output_type": "display_data"
    }
   ],
   "source": [
    "zeros(idx.nμ)"
   ]
  },
  {
   "cell_type": "code",
   "execution_count": 14,
   "metadata": {},
   "outputs": [
    {
     "data": {
      "text/plain": [
       "create_initial_states (generic function with 1 method)"
      ]
     },
     "metadata": {},
     "output_type": "display_data"
    }
   ],
   "source": [
    "#create an initial state/control trajectory \n",
    "\n",
    "#pass in indices, and initial state \n",
    "function create_initial_states(idx, x0)\n",
    "\n",
    "    #slacks are part of nz now \n",
    "    z0 = zeros(idx.nz)\n",
    "\n",
    "    initial_states = zeros(2, N)\n",
    "\n",
    "    initial_states[:,1] = x0\n",
    "\n",
    "    #will just rollout the initial state with no control input as the initial guess trajectory \n",
    "    for i=1:N-1\n",
    "\n",
    "        initial_states[:, i+1] = A*initial_states[:,i] + B*u0\n",
    "\n",
    "    end\n",
    "\n",
    "    #save the states in z\n",
    "    for i=1:N-1\n",
    "\n",
    "        z0[idx.u[i]] = u0\n",
    "        z0[idx.x[i]] = initial_states[:,i+1]\n",
    "    \n",
    "    end\n",
    "\n",
    "    #initial guess for the lagrange multipliers  . initialize as zeros \n",
    "    μ0 = zeros(idx.nμ)\n",
    "\n",
    "\n",
    "    return z0, μ0\n",
    "    \n",
    "end"
   ]
  },
  {
   "cell_type": "code",
   "execution_count": 15,
   "metadata": {},
   "outputs": [
    {
     "data": {
      "text/plain": [
       "(50,)"
      ]
     },
     "metadata": {},
     "output_type": "display_data"
    }
   ],
   "source": [
    "size(idx.x) "
   ]
  },
  {
   "cell_type": "code",
   "execution_count": 16,
   "metadata": {},
   "outputs": [
    {
     "data": {
      "text/plain": [
       "create_w (generic function with 1 method)"
      ]
     },
     "metadata": {},
     "output_type": "display_data"
    }
   ],
   "source": [
    "function create_w(idx, xhist, uhist, μhist)\n",
    "\n",
    "    w = zeros(idx.nz + idx.nμ)\n",
    "\n",
    "    #fill in x\n",
    "    #we do not include x1 in the state\n",
    "    #starting at x2\n",
    "    for i=1:size(idx.x)[1]\n",
    "\n",
    "        w[idx.x[i]] = xhist[:,i+1]\n",
    "\n",
    "    end\n",
    "\n",
    "    #fill in u\n",
    "    for i=1:size(idx.u)[1]\n",
    "\n",
    "        w[idx.u[i]] = uhist[:, i]\n",
    "\n",
    "    end\n",
    "\n",
    "\n",
    "    #fill in μ\n",
    "    for i=1:size(idx.μ)[1]\n",
    "\n",
    "        w[idx.μ[i]] = μhist[:,i]\n",
    "\n",
    "    end\n",
    "\n",
    "    return w\n",
    "\n",
    "end"
   ]
  },
  {
   "cell_type": "code",
   "execution_count": 17,
   "metadata": {},
   "outputs": [
    {
     "data": {
      "text/plain": [
       "([0.5, 0.01, 0.02, 1.0025, 0.05, 0.5, 0.01, 0.02, 1.0099999999999998, 0.1  …  0.5, 0.01, 0.02, 7.002500000000005, 2.4499999999999993, 0.5, 0.01, 0.02, 7.250000000000005, 2.499999999999999], [0.0, 0.0, 0.0, 0.0, 0.0, 0.0, 0.0, 0.0, 0.0, 0.0  …  0.0, 0.0, 0.0, 0.0, 0.0, 0.0, 0.0, 0.0, 0.0, 0.0])"
      ]
     },
     "metadata": {},
     "output_type": "display_data"
    }
   ],
   "source": [
    "z0, μ0  = create_initial_states(idx, x0) "
   ]
  },
  {
   "cell_type": "code",
   "execution_count": 18,
   "metadata": {},
   "outputs": [
    {
     "data": {
      "text/plain": [
       "350-element Vector{Float64}:\n",
       " 0.5\n",
       " 0.01\n",
       " 0.02\n",
       " 1.0025\n",
       " 0.05\n",
       " 0.5\n",
       " 0.01\n",
       " 0.02\n",
       " 1.0099999999999998\n",
       " 0.1\n",
       " ⋮\n",
       " 0.0\n",
       " 0.0\n",
       " 0.0\n",
       " 0.0\n",
       " 0.0\n",
       " 0.0\n",
       " 0.0\n",
       " 0.0\n",
       " 0.0"
      ]
     },
     "metadata": {},
     "output_type": "display_data"
    }
   ],
   "source": [
    "#stack all the initial states into one vector w \n",
    "w0 = [z0; μ0]"
   ]
  },
  {
   "cell_type": "code",
   "execution_count": 19,
   "metadata": {},
   "outputs": [
    {
     "data": {
      "text/plain": [
       "350-element Vector{Float64}:\n",
       " 0.5\n",
       " 0.01\n",
       " 0.02\n",
       " 1.0025\n",
       " 0.05\n",
       " 0.5\n",
       " 0.01\n",
       " 0.02\n",
       " 1.0099999999999998\n",
       " 0.1\n",
       " ⋮\n",
       " 0.0\n",
       " 0.0\n",
       " 0.0\n",
       " 0.0\n",
       " 0.0\n",
       " 0.0\n",
       " 0.0\n",
       " 0.0\n",
       " 0.0"
      ]
     },
     "metadata": {},
     "output_type": "display_data"
    }
   ],
   "source": [
    "original_w0 = [z0; μ0]"
   ]
  },
  {
   "cell_type": "code",
   "execution_count": 20,
   "metadata": {},
   "outputs": [
    {
     "data": {
      "text/plain": [
       "2×2 Matrix{Float64}:\n",
       " 1.0  0.0\n",
       " 0.0  1.0"
      ]
     },
     "metadata": {},
     "output_type": "display_data"
    }
   ],
   "source": [
    "# Cost weights\n",
    "Q = Array(1.0*I(idx.nx))\n",
    "R_1 = 0.1 #Array(1.0*I(1))\n",
    "Qn = Array(1.0*I(idx.nx))"
   ]
  },
  {
   "cell_type": "code",
   "execution_count": 21,
   "metadata": {},
   "outputs": [
    {
     "data": {
      "text/plain": [
       "3×3 Matrix{Float64}:\n",
       "  0.1  0.0  0.0\n",
       "  1.0  0.0  0.0\n",
       " -1.0  0.0  0.0"
      ]
     },
     "metadata": {},
     "output_type": "display_data"
    }
   ],
   "source": [
    "[R_1 zeros(1,2); G zeros(2,2)]"
   ]
  },
  {
   "cell_type": "code",
   "execution_count": 22,
   "metadata": {},
   "outputs": [
    {
     "data": {
      "text/plain": [
       "create_H_res (generic function with 1 method)"
      ]
     },
     "metadata": {},
     "output_type": "display_data"
    }
   ],
   "source": [
    "#this makes H of the true cost function \n",
    "\n",
    "function create_H_res(idx, z, ρ)\n",
    "\n",
    "    #creat H and fill it in \n",
    "    H = zeros(idx.nz, idx.nz)\n",
    "\n",
    "    for i = 1:N-1\n",
    "\n",
    "        #size 3x2 for this example \n",
    "        #first is for the stationarity condition \n",
    "        #other two rows are for the control bound constraint \n",
    "        R_bar_res = [R_1 zeros(1,2); G zeros(2,2)]\n",
    "        \n",
    "        #indexed 1x2 because this expresses 2 KKT conditions and it is a function of 3 variables \n",
    "        H[idx.u[i], idx.u[i]] = R_bar_res\n",
    "    \n",
    "        H[idx.x[i], idx.x[i]] = Q\n",
    "    \n",
    "    end\n",
    "\n",
    "    #fill in terminal cost matrix if it is different than the stage cost Q\n",
    "\n",
    "    H[idx.x[end], idx.x[end]] = Qn \n",
    "\n",
    "    return H \n",
    "\n",
    "end"
   ]
  },
  {
   "cell_type": "code",
   "execution_count": 23,
   "metadata": {},
   "outputs": [
    {
     "data": {
      "text/plain": [
       "create_H (generic function with 1 method)"
      ]
     },
     "metadata": {},
     "output_type": "display_data"
    }
   ],
   "source": [
    "#H will be changing now because the R terms are dependent on the value of σ\n",
    "#this is the jacobian of the kkt residual function that we will solve using ricatti \n",
    "function create_H(idx, z, ρ)\n",
    "\n",
    "    #creat H and fill it in \n",
    "    H = zeros(idx.nz, idx.nz)\n",
    "\n",
    "    for i = 1:N-1\n",
    "\n",
    "        #size 3x2 for this example \n",
    "        #first is for the stationarity condition \n",
    "        #other two rows are for the control bound constraint \n",
    "        R_bar = [R_1 G'*diagm(sqrt(ρ)*exp.(-z[idx.u[i]][nc+1:end])); G diagm(-sqrt(ρ)*exp.(z[idx.u[i]][nc+1:end]))]\n",
    "        \n",
    "        #indexed 1x2 because this expresses 2 KKT conditions and it is a function of 3 variables \n",
    "        H[idx.u[i], idx.u[i]] = R_bar\n",
    "    \n",
    "        H[idx.x[i], idx.x[i]] = Q\n",
    "    \n",
    "    end\n",
    "\n",
    "    #fill in terminal cost matrix if it is different than the stage cost Q\n",
    "\n",
    "    H[idx.x[end], idx.x[end]] = Qn \n",
    "\n",
    "    return H \n",
    "\n",
    "end"
   ]
  },
  {
   "cell_type": "code",
   "execution_count": 24,
   "metadata": {},
   "outputs": [
    {
     "data": {
      "text/plain": [
       "250×250 Matrix{Float64}:\n",
       "  0.1   0.313081  -0.309966  0.0  0.0  …   0.0        0.0       0.0  0.0\n",
       "  1.0  -0.319406   0.0       0.0  0.0      0.0        0.0       0.0  0.0\n",
       " -1.0   0.0       -0.322616  0.0  0.0      0.0        0.0       0.0  0.0\n",
       "  0.0   0.0        0.0       1.0  0.0      0.0        0.0       0.0  0.0\n",
       "  0.0   0.0        0.0       0.0  1.0      0.0        0.0       0.0  0.0\n",
       "  0.0   0.0        0.0       0.0  0.0  …   0.0        0.0       0.0  0.0\n",
       "  0.0   0.0        0.0       0.0  0.0      0.0        0.0       0.0  0.0\n",
       "  0.0   0.0        0.0       0.0  0.0      0.0        0.0       0.0  0.0\n",
       "  0.0   0.0        0.0       0.0  0.0      0.0        0.0       0.0  0.0\n",
       "  0.0   0.0        0.0       0.0  0.0      0.0        0.0       0.0  0.0\n",
       "  ⋮                                    ⋱                             \n",
       "  0.0   0.0        0.0       0.0  0.0      0.0        0.0       0.0  0.0\n",
       "  0.0   0.0        0.0       0.0  0.0      0.0        0.0       0.0  0.0\n",
       "  0.0   0.0        0.0       0.0  0.0      0.0        0.0       0.0  0.0\n",
       "  0.0   0.0        0.0       0.0  0.0      0.0        0.0       0.0  0.0\n",
       "  0.0   0.0        0.0       0.0  0.0  …   0.313081  -0.309966  0.0  0.0\n",
       "  0.0   0.0        0.0       0.0  0.0     -0.319406   0.0       0.0  0.0\n",
       "  0.0   0.0        0.0       0.0  0.0      0.0       -0.322616  0.0  0.0\n",
       "  0.0   0.0        0.0       0.0  0.0      0.0        0.0       1.0  0.0\n",
       "  0.0   0.0        0.0       0.0  0.0      0.0        0.0       0.0  1.0"
      ]
     },
     "metadata": {},
     "output_type": "display_data"
    }
   ],
   "source": [
    "#this matrix is checked\n",
    "H_test =  create_H(idx, z0, ρ0)"
   ]
  },
  {
   "cell_type": "code",
   "execution_count": 25,
   "metadata": {},
   "outputs": [
    {
     "data": {
      "text/plain": [
       "2-element Vector{Float64}:\n",
       " -1.0\n",
       "  0.0"
      ]
     },
     "metadata": {},
     "output_type": "display_data"
    }
   ],
   "source": [
    "#defining all LQR problem as a QP, write down concatanated matrices C and G, as well as their corresponding vectors \n",
    "#Cz = d \n",
    "#Gz -h >= 0\n",
    "\n",
    "#for this example C is [200, 500] and d is size 200\n",
    "C = zeros((N-1)*nx , idx.nz) \n",
    "\n",
    "#negative identity at each of the state indices\n",
    "for i=1:size(idx.x)[1]\n",
    "\n",
    "    C[(i-1)*nx.+(1 : nx), idx.x[i]] = -1.0 *Matrix(I, idx.nx, idx.nx)\n",
    "\n",
    "end\n",
    "\n",
    "#initialize the first row \n",
    "C[1:nx, idx.u[1]] = B \n",
    "\n",
    "for i=1:size(idx.x)[1]-1\n",
    "\n",
    "    #A matrix at each of the state indices, starting at row 2\n",
    "    C[i*nx.+(1 : nx), idx.x[i]] = A\n",
    "\n",
    "    #B matrix at each of the control indices, starting at row 2\n",
    "    C[i*nx.+(1 : nx), idx.u[i+1]] = B\n",
    "\n",
    "end\n",
    "\n",
    "#create d \n",
    "d = zeros(nx*(N-1))\n",
    "d[1:2] = -A*x0 "
   ]
  },
  {
   "cell_type": "code",
   "execution_count": 26,
   "metadata": {},
   "outputs": [
    {
     "data": {
      "text/plain": [
       "2×2 Matrix{Float64}:\n",
       " 1.0  0.1\n",
       " 0.0  1.0"
      ]
     },
     "metadata": {},
     "output_type": "display_data"
    }
   ],
   "source": [
    "A "
   ]
  },
  {
   "cell_type": "code",
   "execution_count": 27,
   "metadata": {},
   "outputs": [
    {
     "data": {
      "text/plain": [
       "100×250 Matrix{Float64}:\n",
       " 0.005  0.0  0.0  -1.0  -0.0  0.0    …   0.0  0.0    0.0  0.0   0.0   0.0\n",
       " 0.1    0.0  0.0  -0.0  -1.0  0.0        0.0  0.0    0.0  0.0   0.0   0.0\n",
       " 0.0    0.0  0.0   1.0   0.1  0.005      0.0  0.0    0.0  0.0   0.0   0.0\n",
       " 0.0    0.0  0.0   0.0   1.0  0.1        0.0  0.0    0.0  0.0   0.0   0.0\n",
       " 0.0    0.0  0.0   0.0   0.0  0.0        0.0  0.0    0.0  0.0   0.0   0.0\n",
       " 0.0    0.0  0.0   0.0   0.0  0.0    …   0.0  0.0    0.0  0.0   0.0   0.0\n",
       " 0.0    0.0  0.0   0.0   0.0  0.0        0.0  0.0    0.0  0.0   0.0   0.0\n",
       " 0.0    0.0  0.0   0.0   0.0  0.0        0.0  0.0    0.0  0.0   0.0   0.0\n",
       " 0.0    0.0  0.0   0.0   0.0  0.0        0.0  0.0    0.0  0.0   0.0   0.0\n",
       " 0.0    0.0  0.0   0.0   0.0  0.0        0.0  0.0    0.0  0.0   0.0   0.0\n",
       " ⋮                            ⋮      ⋱        ⋮                      \n",
       " 0.0    0.0  0.0   0.0   0.0  0.0        0.0  0.0    0.0  0.0   0.0   0.0\n",
       " 0.0    0.0  0.0   0.0   0.0  0.0        0.0  0.0    0.0  0.0   0.0   0.0\n",
       " 0.0    0.0  0.0   0.0   0.0  0.0        0.0  0.0    0.0  0.0   0.0   0.0\n",
       " 0.0    0.0  0.0   0.0   0.0  0.0        0.0  0.0    0.0  0.0   0.0   0.0\n",
       " 0.0    0.0  0.0   0.0   0.0  0.0    …   0.0  0.0    0.0  0.0   0.0   0.0\n",
       " 0.0    0.0  0.0   0.0   0.0  0.0       -0.0  0.0    0.0  0.0   0.0   0.0\n",
       " 0.0    0.0  0.0   0.0   0.0  0.0       -1.0  0.0    0.0  0.0   0.0   0.0\n",
       " 0.0    0.0  0.0   0.0   0.0  0.0        0.1  0.005  0.0  0.0  -1.0  -0.0\n",
       " 0.0    0.0  0.0   0.0   0.0  0.0        1.0  0.1    0.0  0.0  -0.0  -1.0"
      ]
     },
     "metadata": {},
     "output_type": "display_data"
    }
   ],
   "source": [
    "C "
   ]
  },
  {
   "cell_type": "code",
   "execution_count": 28,
   "metadata": {},
   "outputs": [
    {
     "data": {
      "text/plain": [
       "100×250 Matrix{Float64}:\n",
       " 0.005  0.0  0.0  -1.0  -0.0  0.0    …   0.0  0.0    0.0  0.0   0.0   0.0\n",
       " 0.1    0.0  0.0  -0.0  -1.0  0.0        0.0  0.0    0.0  0.0   0.0   0.0\n",
       " 0.0    0.0  0.0   1.0   0.1  0.005      0.0  0.0    0.0  0.0   0.0   0.0\n",
       " 0.0    0.0  0.0   0.0   1.0  0.1        0.0  0.0    0.0  0.0   0.0   0.0\n",
       " 0.0    0.0  0.0   0.0   0.0  0.0        0.0  0.0    0.0  0.0   0.0   0.0\n",
       " 0.0    0.0  0.0   0.0   0.0  0.0    …   0.0  0.0    0.0  0.0   0.0   0.0\n",
       " 0.0    0.0  0.0   0.0   0.0  0.0        0.0  0.0    0.0  0.0   0.0   0.0\n",
       " 0.0    0.0  0.0   0.0   0.0  0.0        0.0  0.0    0.0  0.0   0.0   0.0\n",
       " 0.0    0.0  0.0   0.0   0.0  0.0        0.0  0.0    0.0  0.0   0.0   0.0\n",
       " 0.0    0.0  0.0   0.0   0.0  0.0        0.0  0.0    0.0  0.0   0.0   0.0\n",
       " ⋮                            ⋮      ⋱        ⋮                      \n",
       " 0.0    0.0  0.0   0.0   0.0  0.0        0.0  0.0    0.0  0.0   0.0   0.0\n",
       " 0.0    0.0  0.0   0.0   0.0  0.0        0.0  0.0    0.0  0.0   0.0   0.0\n",
       " 0.0    0.0  0.0   0.0   0.0  0.0        0.0  0.0    0.0  0.0   0.0   0.0\n",
       " 0.0    0.0  0.0   0.0   0.0  0.0        0.0  0.0    0.0  0.0   0.0   0.0\n",
       " 0.0    0.0  0.0   0.0   0.0  0.0    …   0.0  0.0    0.0  0.0   0.0   0.0\n",
       " 0.0    0.0  0.0   0.0   0.0  0.0       -0.0  0.0    0.0  0.0   0.0   0.0\n",
       " 0.0    0.0  0.0   0.0   0.0  0.0       -1.0  0.0    0.0  0.0   0.0   0.0\n",
       " 0.0    0.0  0.0   0.0   0.0  0.0        0.1  0.005  0.0  0.0  -1.0  -0.0\n",
       " 0.0    0.0  0.0   0.0   0.0  0.0        1.0  0.1    0.0  0.0  -0.0  -1.0"
      ]
     },
     "metadata": {},
     "output_type": "display_data"
    }
   ],
   "source": [
    "C "
   ]
  },
  {
   "cell_type": "code",
   "execution_count": 29,
   "metadata": {},
   "outputs": [
    {
     "data": {
      "text/plain": [
       "250×100 adjoint(::Matrix{Float64}) with eltype Float64:\n",
       "  0.005   0.1   0.0     0.0  0.0  0.0  …  0.0  0.0   0.0   0.0   0.0     0.0\n",
       "  0.0     0.0   0.0     0.0  0.0  0.0     0.0  0.0   0.0   0.0   0.0     0.0\n",
       "  0.0     0.0   0.0     0.0  0.0  0.0     0.0  0.0   0.0   0.0   0.0     0.0\n",
       " -1.0    -0.0   1.0     0.0  0.0  0.0     0.0  0.0   0.0   0.0   0.0     0.0\n",
       " -0.0    -1.0   0.1     1.0  0.0  0.0     0.0  0.0   0.0   0.0   0.0     0.0\n",
       "  0.0     0.0   0.005   0.1  0.0  0.0  …  0.0  0.0   0.0   0.0   0.0     0.0\n",
       "  0.0     0.0   0.0     0.0  0.0  0.0     0.0  0.0   0.0   0.0   0.0     0.0\n",
       "  0.0     0.0   0.0     0.0  0.0  0.0     0.0  0.0   0.0   0.0   0.0     0.0\n",
       "  0.0     0.0  -1.0    -0.0  1.0  0.0     0.0  0.0   0.0   0.0   0.0     0.0\n",
       "  0.0     0.0  -0.0    -1.0  0.1  1.0     0.0  0.0   0.0   0.0   0.0     0.0\n",
       "  ⋮                               ⋮    ⋱       ⋮                        \n",
       "  0.0     0.0   0.0     0.0  0.0  0.0     0.0  0.0   0.0   0.0   0.0     0.0\n",
       "  0.0     0.0   0.0     0.0  0.0  0.0     0.0  0.0   0.0   0.0   0.0     0.0\n",
       "  0.0     0.0   0.0     0.0  0.0  0.0     0.0  0.0  -1.0  -0.0   1.0     0.0\n",
       "  0.0     0.0   0.0     0.0  0.0  0.0     0.0  0.0  -0.0  -1.0   0.1     1.0\n",
       "  0.0     0.0   0.0     0.0  0.0  0.0  …  0.0  0.0   0.0   0.0   0.005   0.1\n",
       "  0.0     0.0   0.0     0.0  0.0  0.0     0.0  0.0   0.0   0.0   0.0     0.0\n",
       "  0.0     0.0   0.0     0.0  0.0  0.0     0.0  0.0   0.0   0.0   0.0     0.0\n",
       "  0.0     0.0   0.0     0.0  0.0  0.0     0.0  0.0   0.0   0.0  -1.0    -0.0\n",
       "  0.0     0.0   0.0     0.0  0.0  0.0     0.0  0.0   0.0   0.0  -0.0    -1.0"
      ]
     },
     "metadata": {},
     "output_type": "display_data"
    }
   ],
   "source": [
    "C' "
   ]
  },
  {
   "cell_type": "code",
   "execution_count": 30,
   "metadata": {},
   "outputs": [
    {
     "data": {
      "text/plain": [
       "2-element Vector{Float64}:\n",
       " 0.005000000000000001\n",
       " 0.1"
      ]
     },
     "metadata": {},
     "output_type": "display_data"
    }
   ],
   "source": [
    "B_normal "
   ]
  },
  {
   "cell_type": "code",
   "execution_count": 31,
   "metadata": {},
   "outputs": [
    {
     "data": {
      "text/plain": [
       "true"
      ]
     },
     "metadata": {},
     "output_type": "display_data"
    }
   ],
   "source": [
    "#test out the constraint \n",
    "constraint_test = C*z0 - d\n",
    "#test if all are equal to zero \n",
    "all(constraint_test .== 0) \n",
    "\n",
    "#checked "
   ]
  },
  {
   "cell_type": "code",
   "execution_count": 32,
   "metadata": {},
   "outputs": [
    {
     "data": {
      "text/plain": [
       "50-element Vector{UnitRange{Int64}}:\n",
       " 1:3\n",
       " 6:8\n",
       " 11:13\n",
       " 16:18\n",
       " 21:23\n",
       " 26:28\n",
       " 31:33\n",
       " 36:38\n",
       " 41:43\n",
       " 46:48\n",
       " ⋮\n",
       " 206:208\n",
       " 211:213\n",
       " 216:218\n",
       " 221:223\n",
       " 226:228\n",
       " 231:233\n",
       " 236:238\n",
       " 241:243\n",
       " 246:248"
      ]
     },
     "metadata": {},
     "output_type": "display_data"
    }
   ],
   "source": [
    "idx.u "
   ]
  },
  {
   "cell_type": "code",
   "execution_count": 33,
   "metadata": {},
   "outputs": [
    {
     "data": {
      "text/plain": [
       "2-element Vector{Float64}:\n",
       "  1.0\n",
       " -1.0"
      ]
     },
     "metadata": {},
     "output_type": "display_data"
    }
   ],
   "source": [
    "G "
   ]
  },
  {
   "cell_type": "code",
   "execution_count": 34,
   "metadata": {},
   "outputs": [
    {
     "data": {
      "text/plain": [
       "250-element Vector{Float64}:\n",
       "  0.04693149173746914\n",
       "  0.4968059409209804\n",
       " -0.5064523198128809\n",
       "  1.0025\n",
       "  0.05\n",
       "  0.04693149173746914\n",
       "  0.4968059409209804\n",
       " -0.5064523198128809\n",
       "  1.0099999999999998\n",
       "  0.1\n",
       "  ⋮\n",
       "  0.4968059409209804\n",
       " -0.5064523198128809\n",
       "  7.002500000000005\n",
       "  2.4499999999999993\n",
       "  0.04693149173746914\n",
       "  0.4968059409209804\n",
       " -0.5064523198128809\n",
       "  7.250000000000005\n",
       "  2.499999999999999"
      ]
     },
     "metadata": {},
     "output_type": "display_data"
    }
   ],
   "source": [
    "H_test*z0 "
   ]
  },
  {
   "cell_type": "code",
   "execution_count": 35,
   "metadata": {},
   "outputs": [
    {
     "data": {
      "text/plain": [
       "250×100 adjoint(::Matrix{Float64}) with eltype Float64:\n",
       "  0.005   0.1   0.0     0.0  0.0  0.0  …  0.0  0.0   0.0   0.0   0.0     0.0\n",
       "  0.0     0.0   0.0     0.0  0.0  0.0     0.0  0.0   0.0   0.0   0.0     0.0\n",
       "  0.0     0.0   0.0     0.0  0.0  0.0     0.0  0.0   0.0   0.0   0.0     0.0\n",
       " -1.0    -0.0   1.0     0.0  0.0  0.0     0.0  0.0   0.0   0.0   0.0     0.0\n",
       " -0.0    -1.0   0.1     1.0  0.0  0.0     0.0  0.0   0.0   0.0   0.0     0.0\n",
       "  0.0     0.0   0.005   0.1  0.0  0.0  …  0.0  0.0   0.0   0.0   0.0     0.0\n",
       "  0.0     0.0   0.0     0.0  0.0  0.0     0.0  0.0   0.0   0.0   0.0     0.0\n",
       "  0.0     0.0   0.0     0.0  0.0  0.0     0.0  0.0   0.0   0.0   0.0     0.0\n",
       "  0.0     0.0  -1.0    -0.0  1.0  0.0     0.0  0.0   0.0   0.0   0.0     0.0\n",
       "  0.0     0.0  -0.0    -1.0  0.1  1.0     0.0  0.0   0.0   0.0   0.0     0.0\n",
       "  ⋮                               ⋮    ⋱       ⋮                        \n",
       "  0.0     0.0   0.0     0.0  0.0  0.0     0.0  0.0   0.0   0.0   0.0     0.0\n",
       "  0.0     0.0   0.0     0.0  0.0  0.0     0.0  0.0   0.0   0.0   0.0     0.0\n",
       "  0.0     0.0   0.0     0.0  0.0  0.0     0.0  0.0  -1.0  -0.0   1.0     0.0\n",
       "  0.0     0.0   0.0     0.0  0.0  0.0     0.0  0.0  -0.0  -1.0   0.1     1.0\n",
       "  0.0     0.0   0.0     0.0  0.0  0.0  …  0.0  0.0   0.0   0.0   0.005   0.1\n",
       "  0.0     0.0   0.0     0.0  0.0  0.0     0.0  0.0   0.0   0.0   0.0     0.0\n",
       "  0.0     0.0   0.0     0.0  0.0  0.0     0.0  0.0   0.0   0.0   0.0     0.0\n",
       "  0.0     0.0   0.0     0.0  0.0  0.0     0.0  0.0   0.0   0.0  -1.0    -0.0\n",
       "  0.0     0.0   0.0     0.0  0.0  0.0     0.0  0.0   0.0   0.0  -0.0    -1.0"
      ]
     },
     "metadata": {},
     "output_type": "display_data"
    }
   ],
   "source": [
    "C' "
   ]
  },
  {
   "cell_type": "code",
   "execution_count": 36,
   "metadata": {},
   "outputs": [],
   "source": [
    "#TODO \n",
    "#need to create G all \n",
    "# G_all = zeros(idx.nz, idx.nμ*n_ineq)"
   ]
  },
  {
   "cell_type": "code",
   "execution_count": 37,
   "metadata": {},
   "outputs": [],
   "source": [
    "#TODO: use this as the exit condition for the ip newtons method \n",
    "# function true_kkt_conditions(w)\n",
    "\n",
    "#     z = w[1:idx.nz]\n",
    "\n",
    "#     μ = w[idx.nz+1:end]\n",
    "    \n",
    "#     #create λ \n",
    "#     λ_sol = zeros(idx.nμ*n_ineq)\n",
    "\n",
    "#     for i=1:N-1\n",
    "\n",
    "#         λ_sol[1:2] = sqrt\n",
    "#     end\n",
    "\n",
    "#     #create H \n",
    "#     H = create_H_res(idx, z, ρ)\n",
    "\n",
    "#     stationarity_residual = H*z + C'*μ - G_all*λ\n",
    "\n",
    "# end"
   ]
  },
  {
   "cell_type": "code",
   "execution_count": 38,
   "metadata": {},
   "outputs": [
    {
     "data": {
      "text/plain": [
       "residual_function (generic function with 1 method)"
      ]
     },
     "metadata": {},
     "output_type": "display_data"
    }
   ],
   "source": [
    "#residual function for the KKT system with log domain substitutions\n",
    "\n",
    "#right hand size of the nonlinear KKT system as well\n",
    "\n",
    "#will be evaluating this residual function at the trajectories we are evaluating newton on \n",
    "\n",
    "function residual_function(w, ρ)\n",
    "\n",
    "    #pick out each value from w \n",
    "\n",
    "    #contains x and u \n",
    "    #u contains the sigmas \n",
    "    z = w[1:idx.nz]\n",
    "    μ = w[idx.nz+ 1: idx.nz + idx.nμ]\n",
    "\n",
    "    #build the h for the stationarity residual\n",
    "\n",
    "    #affine term for the stationarity residual and inequality residual \n",
    "    h_res = zeros(idx.nz)\n",
    "\n",
    "    for i=1:N-1\n",
    "\n",
    "        #the last 2 should be populated with h from the inequality constraint \n",
    "\n",
    "        #double check the signs here...\n",
    "        h_res[idx.u[i][1]] = G'*(sqrt(ρ)*exp.(-z[idx.u[i]][nc+1:end]))\n",
    "\n",
    "        h_res[idx.u[i][nc+1:end]] = (h + sqrt(ρ)*exp.(z[idx.u[i]][nc+1:end])) \n",
    "\n",
    "    end\n",
    "\n",
    "    #gradient of lagrangian = 0, and the inequality constraints kkt condition in one \n",
    "    #this contains the stationarity residual and the inequality constraints Gu - h - s \n",
    "\n",
    "    #create H \n",
    "    H = create_H_res(idx, z, ρ)\n",
    "    \n",
    "    #evaluate the residual \n",
    "    \n",
    "    #fix this stationarity residual \n",
    "\n",
    "    #the H function is the jacobian. it is not for the residual check function\n",
    "    stationarity_residual = H*z + C'*μ - h_res\n",
    "    \n",
    "    #equality constraints\n",
    "    primal_feasibility_1 = C*z - d\n",
    "\n",
    "    residual = [stationarity_residual; primal_feasibility_1]\n",
    "\n",
    "    #this is the residual we want to converge to in Newtons method \n",
    "    return residual\n",
    "\n",
    "end"
   ]
  },
  {
   "cell_type": "code",
   "execution_count": 39,
   "metadata": {},
   "outputs": [],
   "source": [
    "#residuals checked and seem to be good..."
   ]
  },
  {
   "cell_type": "code",
   "execution_count": 40,
   "metadata": {},
   "outputs": [
    {
     "data": {
      "text/plain": [
       "newton_step (generic function with 1 method)"
      ]
     },
     "metadata": {},
     "output_type": "display_data"
    }
   ],
   "source": [
    "function newton_step(w_newton, ρ0)\n",
    "\n",
    "    #for i=1\n",
    "        \n",
    "        H_test = create_H(idx, w_newton, ρ0)\n",
    "\n",
    "        newton_step= [H_test C'; C zeros(100,100)]\\(-residual_function(w_newton, ρ0)) \n",
    "\n",
    "        #println(newton_step)\n",
    "\n",
    "        #w_newton_2 = w_newton + newton_step\n",
    "\n",
    "    #end\n",
    "\n",
    "    return newton_step\n",
    "    \n",
    "end"
   ]
  },
  {
   "cell_type": "code",
   "execution_count": 41,
   "metadata": {},
   "outputs": [
    {
     "data": {
      "text/plain": [
       "350-element Vector{Float64}:\n",
       " -1.1492203277052568\n",
       "  1.6636316087048855\n",
       "  5.661853070006606\n",
       " -0.005746101638527623\n",
       " -0.11492203277052511\n",
       " -1.0614991443402864\n",
       "  1.9382701836178329\n",
       "  5.389947194572935\n",
       " -0.022545800637280067\n",
       " -0.22107194720455361\n",
       "  ⋮\n",
       " -0.5324744739238828\n",
       " -0.15444813789751588\n",
       " -0.4183791037798001\n",
       " -0.13045522314982677\n",
       " -0.3076495530698678\n",
       " -0.09671481161559335\n",
       " -0.2007121645723569\n",
       " -0.053242104660454107\n",
       " -0.0980079530241314"
      ]
     },
     "metadata": {},
     "output_type": "display_data"
    }
   ],
   "source": [
    "#newton is working\n",
    "#this newton step should be the same as one backward and forward pass\n",
    "newton_step_1 = newton_step(w0, ρ0)"
   ]
  },
  {
   "cell_type": "code",
   "execution_count": 42,
   "metadata": {},
   "outputs": [
    {
     "data": {
      "text/plain": [
       "350-element Vector{Float64}:\n",
       " -1.4504564423559771\n",
       " -1.3556872136433746\n",
       " -0.9612147968875945\n",
       " -0.007252282211779537\n",
       " -0.1450456442356005\n",
       " -0.9959793386515541\n",
       " -1.0259049231022765\n",
       " -0.9567632346963489\n",
       " -0.026736743328597434\n",
       " -0.24464357810075965\n",
       "  ⋮\n",
       "  0.49347895743373643\n",
       "  0.20544487777839474\n",
       "  0.3870922214890198\n",
       "  0.16721459577976894\n",
       "  0.2839926731323857\n",
       "  0.12030291208647367\n",
       "  0.18471243680899127\n",
       "  0.06460774759447509\n",
       "  0.08983199119020906"
      ]
     },
     "metadata": {},
     "output_type": "display_data"
    }
   ],
   "source": [
    "newton_step_2 = newton_step(w0+newton_step_1, ρ0)"
   ]
  },
  {
   "cell_type": "code",
   "execution_count": 43,
   "metadata": {},
   "outputs": [
    {
     "data": {
      "text/plain": [
       "3×50 Matrix{Float64}:\n",
       " 0.0  0.0  0.0  0.0  0.0  0.0  0.0  0.0  …  0.0  0.0  0.0  0.0  0.0  0.0  0.0\n",
       " 0.0  0.0  0.0  0.0  0.0  0.0  0.0  0.0     0.0  0.0  0.0  0.0  0.0  0.0  0.0\n",
       " 0.0  0.0  0.0  0.0  0.0  0.0  0.0  0.0     0.0  0.0  0.0  0.0  0.0  0.0  0.0"
      ]
     },
     "metadata": {},
     "output_type": "display_data"
    }
   ],
   "source": [
    "#cost-to-go terms \n",
    "P = zeros(nx,nx,N)\n",
    "q = zeros(nx, N)\n",
    "\n",
    "#feedback terms\n",
    "K = zeros(nu,nx,N-1)\n",
    "f = zeros(nu, N-1)"
   ]
  },
  {
   "cell_type": "code",
   "execution_count": 44,
   "metadata": {},
   "outputs": [
    {
     "data": {
      "text/plain": [
       "ricatti_recursion (generic function with 1 method)"
      ]
     },
     "metadata": {},
     "output_type": "display_data"
    }
   ],
   "source": [
    "#obtain the linear feedback control law as well as the cost to go \n",
    "function ricatti_recursion(w, ρ)\n",
    "\n",
    "    #z here is the reference trajectory, here the control law is solving for deltas\n",
    "    #initialize the final matrices\n",
    "\n",
    "    z = w[1:idx.nz]\n",
    "\n",
    "    affine_term = -residual_function(w, ρ)\n",
    "\n",
    "    P[:,:,N] = Qn\n",
    "\n",
    "    q[:,N] = affine_term[idx.x[end]]\n",
    "\n",
    "    #create H \n",
    "    #jacobian version of H \n",
    "    \n",
    "    H = create_H(idx, z, ρ)\n",
    "        \n",
    "    for k=N-1:-1:2\n",
    "\n",
    "        R_k = H[idx.u[k], idx.u[k]]\n",
    "\n",
    "        #add the 2 times the exponential term\n",
    "        K[:,:,k] = -(R_k + B'*P[:,:,k+1]*B)\\B'*P[:,:,k+1]*A\n",
    "\n",
    "        f[:,k] = (R_k + B'*P[:,:,k+1]*B)\\(B'*q[:,k+1] + affine_term[idx.u[k]])\n",
    "\n",
    "        P[:, :, k] = (Q + A'*P[:,:,k+1]*A + A'*P[:,:,k+1]*B*K[:,:,k])\n",
    "\n",
    "        q[:,k] = -A'*P[:,:,k+1]*B*f[:,k] + A'*q[:,k+1] + affine_term[idx.x[k-1]]\n",
    "\n",
    "\n",
    "        println(\"condition number: \", cond(R_k + B'*P[:,:,k+1]*B))\n",
    "\n",
    "    end\n",
    "\n",
    "    #there is no cost to go affine term at timestep 1 because x1 is not part of the cost\n",
    "    # in this formualtion, but we can still calculate the feedback gain K and affine control f \n",
    "    k = 1\n",
    "\n",
    "    R_k = H[idx.u[k], idx.u[k]]\n",
    "    #feedback and feedforward terms at index 1 \n",
    "    K[:,:,k] = -(R_k + B'*P[:,:,k+1]*B)\\B'*P[:,:,k+1]*A\n",
    "\n",
    "    f[:,k] = (R_k + B'*P[:,:,k+1]*B)\\(B'*q[:,k+1] + affine_term[idx.u[k]])\n",
    "\n",
    "    return K, f, P, q\n",
    "    \n",
    "end"
   ]
  },
  {
   "cell_type": "code",
   "execution_count": 45,
   "metadata": {},
   "outputs": [
    {
     "name": "stdout",
     "output_type": "stream",
     "text": [
      "condition number: [0.11002500000000001 0.3130812471718412 -0.3099660367124636; 1.0 -0.31940590790196033 0.0; -1.0 0.0 -0.32261599064404545]\n",
      "condition number: [0.12020050951923057 0.3130812471718412 -0.3099660367124636; 1.0 -0.31940590790196033 0.0; -1.0 0.0 -0.32261599064404545]\n",
      "condition number: [0.13062310893641735 0.3130812471718412 -0.3099660367124636; 1.0 -0.31940590790196033 0.0; -1.0 0.0 -0.32261599064404545]\n",
      "condition number: [0.14137762659762704 0.3130812471718412 -0.3099660367124636; 1.0 -0.31940590790196033 0.0; -1.0 0.0 -0.32261599064404545]\n",
      "condition number: [0.15253065760385684 0.3130812471718412 -0.3099660367124636; 1.0 -0.31940590790196033 0.0; -1.0 0.0 -0.32261599064404545]\n",
      "condition number: [0.1641247578662729 0.3130812471718412 -0.3099660367124636; 1.0 -0.31940590790196033 0.0; -1.0 0.0 -0.32261599064404545]\n",
      "condition number: [0.17617372447709628 0.3130812471718412 -0.3099660367124636; 1.0 -0.31940590790196033 0.0; -1.0 0.0 -0.32261599064404545]\n",
      "condition number: [0.18865942727286794 0.3130812471718412 -0.3099660367124636; 1.0 -0.31940590790196033 0.0; -1.0 0.0 -0.32261599064404545]\n",
      "condition number: [0.20153064817024624 0.3130812471718412 -0.3099660367124636; 1.0 -0.31940590790196033 0.0; -1.0 0.0 -0.32261599064404545]\n",
      "condition number: [0.21470428346052112 0.3130812471718412 -0.3099660367124636; 1.0 -0.31940590790196033 0.0; -1.0 0.0 -0.32261599064404545]\n",
      "condition number: [0.22806905838578975 0.3130812471718412 -0.3099660367124636; 1.0 -0.31940590790196033 0.0; -1.0 0.0 -0.32261599064404545]\n",
      "condition number: [0.24149161127353483 0.3130812471718412 -0.3099660367124636; 1.0 -0.31940590790196033 0.0; -1.0 0.0 -0.32261599064404545]\n",
      "condition number: [0.2548244762827345 0.3130812471718412 -0.3099660367124636; 1.0 -0.31940590790196033 0.0; -1.0 0.0 -0.32261599064404545]\n",
      "condition number: [0.2679152013686398 0.3130812471718412 -0.3099660367124636; 1.0 -0.31940590790196033 0.0; -1.0 0.0 -0.32261599064404545]\n",
      "condition number: [0.28061565469450817 0.3130812471718412 -0.3099660367124636; 1.0 -0.31940590790196033 0.0; -1.0 0.0 -0.32261599064404545]\n",
      "condition number: [0.292790548491521 0.3130812471718412 -0.3099660367124636; 1.0 -0.31940590790196033 0.0; -1.0 0.0 -0.32261599064404545]\n",
      "condition number: [0.3043243530287906 0.3130812471718412 -0.3099660367124636; 1.0 -0.31940590790196033 0.0; -1.0 0.0 -0.32261599064404545]\n",
      "condition number: [0.3151260489240826 0.3130812471718412 -0.3099660367124636; 1.0 -0.31940590790196033 0.0; -1.0 0.0 -0.32261599064404545]\n",
      "condition number: [0.3251315058085047 0.3130812471718412 -0.3099660367124636; 1.0 -0.31940590790196033 0.0; -1.0 0.0 -0.32261599064404545]\n",
      "condition number: [0.3343036031498968 0.3130812471718412 -0.3099660367124636; 1.0 -0.31940590790196033 0.0; -1.0 0.0 -0.32261599064404545]\n",
      "condition number: [0.3426304632377464 0.3130812471718412 -0.3099660367124636; 1.0 -0.31940590790196033 0.0; -1.0 0.0 -0.32261599064404545]\n",
      "condition number: [0.3501223141855003 0.3130812471718412 -0.3099660367124636; 1.0 -0.31940590790196033 0.0; -1.0 0.0 -0.32261599064404545]\n",
      "condition number: [0.35680754047810337 0.3130812471718412 -0.3099660367124636; 1.0 -0.31940590790196033 0.0; -1.0 0.0 -0.32261599064404545]\n",
      "condition number: [0.36272843144497724 0.3130812471718412 -0.3099660367124636; 1.0 -0.31940590790196033 0.0; -1.0 0.0 -0.32261599064404545]\n",
      "condition number: [0.3679370365933199 0.3130812471718412 -0.3099660367124636; 1.0 -0.31940590790196033 0.0; -1.0 0.0 -0.32261599064404545]\n",
      "condition number: [0.3724914135703973 0.3130812471718412 -0.3099660367124636; 1.0 -0.31940590790196033 0.0; -1.0 0.0 -0.32261599064404545]\n",
      "condition number: [0.3764524351161531 0.3130812471718412 -0.3099660367124636; 1.0 -0.31940590790196033 0.0; -1.0 0.0 -0.32261599064404545]\n",
      "condition number: [0.3798812214251408 0.3130812471718412 -0.3099660367124636; 1.0 -0.31940590790196033 0.0; -1.0 0.0 -0.32261599064404545]\n",
      "condition number: [0.38283719048146925 0.3130812471718412 -0.3099660367124636; 1.0 -0.31940590790196033 0.0; -1.0 0.0 -0.32261599064404545]\n",
      "condition number: [0.3853766711244757 0.3130812471718412 -0.3099660367124636; 1.0 -0.31940590790196033 0.0; -1.0 0.0 -0.32261599064404545]\n",
      "condition number: [0.3875519979319304 0.3130812471718412 -0.3099660367124636; 1.0 -0.31940590790196033 0.0; -1.0 0.0 -0.32261599064404545]\n",
      "condition number: [0.38941099800354007 0.3130812471718412 -0.3099660367124636; 1.0 -0.31940590790196033 0.0; -1.0 0.0 -0.32261599064404545]\n",
      "condition number: [0.39099678192997156 0.3130812471718412 -0.3099660367124636; 1.0 -0.31940590790196033 0.0; -1.0 0.0 -0.32261599064404545]\n",
      "condition number: [0.3923477600257126 0.3130812471718412 -0.3099660367124636; 1.0 -0.31940590790196033 0.0; -1.0 0.0 -0.32261599064404545]\n",
      "condition number: [0.3934978168145822 0.3130812471718412 -0.3099660367124636; 1.0 -0.31940590790196033 0.0; -1.0 0.0 -0.32261599064404545]\n",
      "condition number: [0.3944765894229437 0.3130812471718412 -0.3099660367124636; 1.0 -0.31940590790196033 0.0; -1.0 0.0 -0.32261599064404545]\n",
      "condition number: [0.3953098075174438 0.3130812471718412 -0.3099660367124636; 1.0 -0.31940590790196033 0.0; -1.0 0.0 -0.32261599064404545]\n",
      "condition number: [0.396019662966293 0.3130812471718412 -0.3099660367124636; 1.0 -0.31940590790196033 0.0; -1.0 0.0 -0.32261599064404545]\n",
      "condition number: [0.3966251862154976 0.3130812471718412 -0.3099660367124636; 1.0 -0.31940590790196033 0.0; -1.0 0.0 -0.32261599064404545]\n",
      "condition number: [0.3971426134512468 0.3130812471718412 -0.3099660367124636; 1.0 -0.31940590790196033 0.0; -1.0 0.0 -0.32261599064404545]\n",
      "condition number: [0.3975857341219313 0.3130812471718412 -0.3099660367124636; 1.0 -0.31940590790196033 0.0; -1.0 0.0 -0.32261599064404545]\n",
      "condition number: [0.3979662125437834 0.3130812471718412 -0.3099660367124636; 1.0 -0.31940590790196033 0.0; -1.0 0.0 -0.32261599064404545]\n",
      "condition number: [0.39829388035533575 0.3130812471718412 -0.3099660367124636; 1.0 -0.31940590790196033 0.0; -1.0 0.0 -0.32261599064404545]\n",
      "condition number: [0.3985769987465584 0.3130812471718412 -0.3099660367124636; 1.0 -0.31940590790196033 0.0; -1.0 0.0 -0.32261599064404545]\n",
      "condition number: [0.3988224908691066 0.3130812471718412 -0.3099660367124636; 1.0 -0.31940590790196033 0.0; -1.0 0.0 -0.32261599064404545]\n",
      "condition number: [0.39903614580187174 0.3130812471718412 -0.3099660367124636; 1.0 -0.31940590790196033 0.0; -1.0 0.0 -0.32261599064404545]\n",
      "condition number: [0.39922279603567423 0.3130812471718412 -0.3099660367124636; 1.0 -0.31940590790196033 0.0; -1.0 0.0 -0.32261599064404545]\n",
      "condition number: [0.3993864707580588 0.3130812471718412 -0.3099660367124636; 1.0 -0.31940590790196033 0.0; -1.0 0.0 -0.32261599064404545]\n",
      "condition number: [0.3995305273446438 0.3130812471718412 -0.3099660367124636; 1.0 -0.31940590790196033 0.0; -1.0 0.0 -0.32261599064404545]\n"
     ]
    },
    {
     "data": {
      "text/plain": [
       "([-0.6502707117978904 -1.3127489037049225; -2.0358756544900443 -4.109970639954045; 2.0156183532618472 4.069075748800464;;; -0.6499038565376124 -1.3122565339703227; -2.034727099465851 -4.108429122648263; 2.014481226551093 4.067549569848153;;; -0.6494985941918772 -1.3116995158291143; -2.033458299059505 -4.106685203304794; 2.013225050919729 4.06582300279208;;; … ;;; -0.02161487305305693 -0.14890340757792722; -0.06767211412912087 -0.4661886455263444; 0.06699876534299083 0.4615499909991071;;; -0.009691223187612907 -0.09848873847645853; -0.03034140242198516 -0.30834977074590947; 0.030039500423603017 0.30528163926358187;;; -0.0024378196168649605 -0.0490001742989857; -0.007632356060280621 -0.15341035681164045; 0.007556412848595282 0.15188389825676515], [-1.1492203277052335 -1.2160407463554714 … -0.8129331609229532 -0.6482783939631984; 1.6636316087049583 1.4544294086293477 … 2.7164836645457715 3.2319868624712607; 5.661853070006535 5.868973673411353 … 4.619477067158868 4.109103211755572], [0.0 0.0; 0.0 0.0;;; 20.06074143649391 14.217497526170469; 14.217497526170469 28.49387473961034;;; 20.04931805021016 14.208655000555554; 14.208655000555554 28.48206393928329;;; … ;;; 2.9997942244646123 0.2977864244342879; 0.2977864244342879 3.0250327656371443;;; 1.9999878109019156 0.09975499912850508; 0.09975499912850508 2.0050754824829515;;; 1.0 0.0; 0.0 1.0], [0.0 -20.800561298615957 … -14.249258608030194 -7.250000000000005; 0.0 -15.425375275280306 … -5.609848021406698 -2.499999999999999])"
      ]
     },
     "metadata": {},
     "output_type": "display_data"
    }
   ],
   "source": [
    "K_test, f_test, P_test, q_test = ricatti_recursion(w0, ρ0)"
   ]
  },
  {
   "cell_type": "code",
   "execution_count": null,
   "metadata": {},
   "outputs": [],
   "source": [
    "#pass in the current tractory as well as the feedback control law \n",
    "#everything is in terms of deltas from the reference trajectory \n",
    "\n",
    "#x0 defined above \n",
    "\n",
    "#no linesearch here \n",
    "\n",
    "#w here is the reference \n",
    "function forward_pass(w, K, f, P, q, ρ)\n",
    "\n",
    "    #initial step size \n",
    "    α = 1\n",
    "\n",
    "    #state trajectory\n",
    "    z = w[1:idx.nz]\n",
    "\n",
    "    #lagrange multipliers \n",
    "    μ = w[idx.nz+ 1: idx.nz + idx.nμ]\n",
    "    \n",
    "    xhist = zeros(nx, N)\n",
    "    xhist[:,1] = x0 \n",
    "\n",
    "    #this is the reference trajectory based off w \n",
    "    xtraj = zeros(nx, N)\n",
    "    xtraj[:,1] = x0 \n",
    "    for i=2:N\n",
    "\n",
    "        xtraj[:,i] = w[idx.x[i-1]]\n",
    "\n",
    "    end\n",
    "\n",
    "    uhist = zeros(nu, N-1)\n",
    "\n",
    "    #this sigma is from 2:N\n",
    "    μhist = zeros(nx, N-1)\n",
    "\n",
    "    #the minus sign is in K \n",
    "\n",
    "    Δu_1 = (K[:,:,1]*(xhist[:,1] - xtraj[:,1])) + f[:,1]\n",
    "\n",
    "    #since 1 is size 1, have to pick it out of the 1 element vector\n",
    "    uhist[:,1] = w[idx.u[1]] + Δu_1\n",
    "\n",
    "    #forward simulate first control\n",
    "    xhist[:,2] = A*xhist[:,1] + B*uhist[:,1]\n",
    "\n",
    "    #check that the step was good, if not take a smaller step\n",
    "\n",
    "\n",
    "\n",
    "    #update the controls, lagrange multipliers, and sigmas \n",
    "    for k=2:N-1\n",
    "\n",
    "        #KΔx + d is Δu, so we apply that to the current u reference trajectory stored in z0\n",
    "        \n",
    "        Δu_k = (K[:,:,k]*(xhist[:,k] - xtraj[:,k])) + f[:,k]\n",
    "        \n",
    "        Δμ_k = P[:,:,k]*(xhist[:,k] - xtraj[:,k]) - q[:,k] \n",
    "\n",
    "        uhist[:,k] = w[idx.u[k]] + Δu_k\n",
    "\n",
    "        #apply a forward rollout on the dynamics with this control \n",
    "        xhist[:,k+1] = A*xhist[:,k] + B*uhist[:,k]\n",
    "\n",
    "        #update the lagrage multipliers μ\n",
    "        μhist[:,k-1] = w[idx.μ[k-1]] + Δμ_k \n",
    "\n",
    "    end\n",
    "\n",
    "    #fill in lagrange multiplier at timestep N \n",
    "    Δμ_N = P[:,:,N]*(xhist[:,N] - xtraj[:,N]) - q[:,N] \n",
    "\n",
    "    #mu at the end \n",
    "    μhist[:,end] = w[idx.μ[end]] + Δμ_N\n",
    "\n",
    "\n",
    "\n",
    "    #create w \n",
    "\n",
    "    #check the cost \n",
    "\n",
    "    #implement the armijo law \n",
    "\n",
    "    #if cost doesn't go down, take 1/2 of the size and run the sim again\n",
    "\n",
    "    return xhist, uhist, μhist\n",
    "\n",
    "end"
   ]
  },
  {
   "cell_type": "code",
   "execution_count": null,
   "metadata": {},
   "outputs": [],
   "source": [
    "#maximum iterations on the forward pass linesearch \n",
    "max_linesearch_iters = 20"
   ]
  },
  {
   "cell_type": "code",
   "execution_count": null,
   "metadata": {},
   "outputs": [],
   "source": [
    "#adding an armijo linesearch on the forward rollout\n",
    "\n",
    "#forward pass with a linesearch \n",
    "\n",
    "\n",
    "#this probably has a bug...will comment out for now .\n",
    "\n",
    "\n",
    "# function forward_pass_ls(w, K, f, P, q, ρ)\n",
    "\n",
    "#     #state trajectory\n",
    "#     z = w[1:idx.nz]\n",
    "\n",
    "#     #lagrange multipliers \n",
    "#     μ = w[idx.nz+ 1: idx.nz + idx.nμ]\n",
    "    \n",
    "#     #parameter for the linesearch \n",
    "#     b = 0.01\n",
    "\n",
    "#     xhist = zeros(nx, N)\n",
    "#     xhist[:,1] = x0 \n",
    "\n",
    "#     #this is the reference trajectory based off w \n",
    "#     xtraj = zeros(nx, N)\n",
    "#     xtraj[:,1] = x0 \n",
    "#     for i=2:N\n",
    "\n",
    "#         xtraj[:,i] = w[idx.x[i-1]]\n",
    "\n",
    "#     end\n",
    "\n",
    "#     uhist = zeros(nu, N-1)\n",
    "\n",
    "#     #this sigma is from 2:N\n",
    "#     μhist = zeros(nx, N-1)\n",
    "\n",
    "#     #initial step size \n",
    "#     α = 1.0\n",
    "\n",
    "#     for i =1:max_linesearch_iters\n",
    "\n",
    "#         #forward rollout \n",
    "#         for k=1:N-1\n",
    "            \n",
    "#             Δu_k = (K[:,:,k]*(xhist[:,k] - xtraj[:,k])) + α*f[:,k]\n",
    "\n",
    "#             #+1 because there is no ctg calculated at k=1\n",
    "#             Δμ_k = P[:,:,k+1]*(xhist[:,k] - xtraj[:,k]) - q[:,k+1] \n",
    "\n",
    "#             uhist[:,k] = w[idx.u[k]] + Δu_k\n",
    "\n",
    "#             #apply a forward rollout on the dynamics with this control \n",
    "#             xhist[:,k+1] = A*xhist[:,k] + B*uhist[:,k]\n",
    "\n",
    "#             #update the lagrage multipliers μ\n",
    "#             μhist[:,k] = w[idx.μ[k]] + Δμ_k \n",
    "            \n",
    "#         end\n",
    "\n",
    "#         #create w and evaluate the cost \n",
    "#         new_w = create_w(idx, xhist, uhist, μhist)\n",
    "\n",
    "#         #this is the delta from the forward pass\n",
    "#         new_delta = new_w - w\n",
    "\n",
    "#         #call the create H function here \n",
    "#         H_w = create_H(idx, w, ρ)\n",
    "\n",
    "#         #jacobian of the residual function \n",
    "#         jac = [H_w C'; \n",
    "#         C zeros(idx.nμ,idx.nμ)] \n",
    "\n",
    "#         #this is the gradient of the L2 norm of the residual function\n",
    "#         grad = (w' * jac)/norm(residual_function(w, ρ))\n",
    "\n",
    "#         #the merit function is the l2 norm of the kkt residual \n",
    "#         #simple linesearch (working)\n",
    "#         #if norm(residual_function(w + α*new_delta, ρ)) < norm(residual_function(w, ρ))\n",
    "        \n",
    "#         #armijo linesearch\n",
    "#         if norm(residual_function(w + α*new_delta, ρ)) < norm(residual_function(w, ρ)) + b*α*grad*new_delta \n",
    "\n",
    "#             return xhist, uhist, μhist, α\n",
    "\n",
    "#         else\n",
    "#             α = 0.5*α\n",
    "\n",
    "#         end\n",
    "\n",
    "#     end\n",
    "\n",
    "#     println(\"linesearch failed \")\n",
    "\n",
    "# end"
   ]
  },
  {
   "cell_type": "code",
   "execution_count": null,
   "metadata": {},
   "outputs": [],
   "source": [
    "function forward_pass_ls(w, K, f, P, q, ρ)\n",
    "\n",
    "    #state trajectory\n",
    "    z = w[1:idx.nz]\n",
    "\n",
    "    #lagrange multipliers \n",
    "    μ = w[idx.nz+ 1: idx.nz + idx.nμ]\n",
    "    \n",
    "    #parameter for the linesearch \n",
    "    b = 0.01\n",
    "\n",
    "    xhist = zeros(nx, N)\n",
    "    xhist[:,1] = x0 \n",
    "\n",
    "    #this is the reference trajectory based off w \n",
    "    xtraj = zeros(nx, N)\n",
    "    xtraj[:,1] = x0 \n",
    "    for i=2:N\n",
    "\n",
    "        xtraj[:,i] = w[idx.x[i-1]]\n",
    "\n",
    "    end\n",
    "\n",
    "    uhist = zeros(nu, N-1)\n",
    "\n",
    "    #this sigma is from 2:N\n",
    "    μhist = zeros(nx, N-1)\n",
    "\n",
    "    #initial step size \n",
    "    α = 1.0\n",
    "\n",
    "    for i =1:max_linesearch_iters\n",
    "\n",
    "        #forward rollout \n",
    "        for k=1:N-1\n",
    "            \n",
    "            Δu_k = (K[:,:,k]*(xhist[:,k] - xtraj[:,k])) + α*f[:,k]\n",
    "\n",
    "            #+1 because there is no ctg calculated at k=1\n",
    "            Δμ_k = P[:,:,k+1]*(xhist[:,k] - xtraj[:,k]) - α*q[:,k+1] \n",
    "\n",
    "            #will see if theres no alpha on affine term on ctg (doesn't work)\n",
    "            #Δμ_k = P[:,:,k+1]*(xhist[:,k] - xtraj[:,k]) - q[:,k+1] \n",
    "\n",
    "            uhist[:,k] = w[idx.u[k]] + Δu_k\n",
    "\n",
    "            #apply a forward rollout on the dynamics with this control \n",
    "            xhist[:,k+1] = A*xhist[:,k] + B*uhist[:,k]\n",
    "\n",
    "            #update the lagrage multipliers μ\n",
    "            μhist[:,k] = w[idx.μ[k]] + Δμ_k \n",
    "            \n",
    "        end\n",
    "\n",
    "        #create w and evaluate the cost \n",
    "        new_w = create_w(idx, xhist, uhist, μhist)\n",
    "\n",
    "        Jn = norm(residual_function(new_w, ρ))\n",
    "\n",
    "        #this is the delta from the forward pass\n",
    "        new_delta = new_w - w\n",
    "\n",
    "        #call the create H function here \n",
    "        H_w = create_H(idx, w, ρ)\n",
    "\n",
    "        #jacobian of the residual function \n",
    "        jac = [H_w C'; \n",
    "        C zeros(idx.nμ,idx.nμ)] \n",
    "\n",
    "        #this is the gradient of the L2 norm of the residual function\n",
    "        grad = (w' * jac)/norm(residual_function(w, ρ))\n",
    "\n",
    "        #print(\"res Jn: \", Jn)\n",
    "\n",
    "        #println(\"res og: \", norm(residual_function(w, ρ)) + b*α*grad*new_delta)\n",
    "        #the merit function is the l2 norm of the kkt residual \n",
    "        #simple linesearch (working)\n",
    "        #if norm(residual_function(w + α*new_delta, ρ)) < norm(residual_function(w, ρ))\n",
    "\n",
    "        if Jn < norm(residual_function(w, ρ)) + b*α*grad*new_delta\n",
    "\n",
    "        #armijo linesearch\n",
    "        #if norm(residual_function(w + α*new_delta, ρ)) < norm(residual_function(w, ρ)) + b*α*grad*new_delta \n",
    "\n",
    "            return new_w\n",
    "\n",
    "        else\n",
    "            α = 0.5*α\n",
    "\n",
    "        end\n",
    "\n",
    "    end\n",
    "\n",
    "    println(\"linesearch failed \")\n",
    "\n",
    "end"
   ]
  },
  {
   "cell_type": "code",
   "execution_count": null,
   "metadata": {},
   "outputs": [],
   "source": [
    "xhist_test, uhist_test, μhist_test = forward_pass(w0, K_test, f_test, P_test, q_test, ρ0)"
   ]
  },
  {
   "cell_type": "code",
   "execution_count": null,
   "metadata": {},
   "outputs": [],
   "source": [
    "#test out forward pass with linesearch. #old linesearch \n",
    "\n",
    "#xhist_test, uhist_test, μhist_test, α_test = forward_pass_ls(w0, K_test, f_test, P_test, q_test, ρ0)"
   ]
  },
  {
   "cell_type": "code",
   "execution_count": null,
   "metadata": {},
   "outputs": [],
   "source": [
    "#this is working, commented out for testing...\n",
    "#new_w_ls = forward_pass_ls(w0, K_test, f_test, P_test, q_test, ρ0)"
   ]
  },
  {
   "cell_type": "code",
   "execution_count": null,
   "metadata": {},
   "outputs": [],
   "source": [
    "#this is after one iteration of the recursive alg. \n",
    "plot(xhist_test[1,:])  \n",
    "plot!(xhist_test[2,:])  "
   ]
  },
  {
   "cell_type": "code",
   "execution_count": null,
   "metadata": {},
   "outputs": [],
   "source": [
    "#stack up the solution into the w vector \n",
    "w_1 = create_w(idx, xhist_test, uhist_test, μhist_test) "
   ]
  },
  {
   "cell_type": "code",
   "execution_count": null,
   "metadata": {},
   "outputs": [],
   "source": [
    "#this is the step that the ricatti recursion makes after one iteration. it should match the newton step \n",
    "step_ricatti = w_1 - w0 "
   ]
  },
  {
   "cell_type": "code",
   "execution_count": null,
   "metadata": {},
   "outputs": [],
   "source": [
    "difference = step_ricatti - newton_step_1 "
   ]
  },
  {
   "cell_type": "code",
   "execution_count": null,
   "metadata": {},
   "outputs": [],
   "source": [
    "w0 "
   ]
  },
  {
   "cell_type": "code",
   "execution_count": null,
   "metadata": {},
   "outputs": [],
   "source": [
    "#do another forward and backward pass and compare it to the newton step \n",
    "\n",
    "\n",
    "K_test_2, f_test_2, P_test_2, q_test_2 = ricatti_recursion(w0 + step_ricatti, ρ0)\n",
    "xhist_test_2, uhist_test_2, μhist_test_2 = forward_pass(w0 + step_ricatti, K_test_2, f_test_2, P_test_2, q_test_2, ρ0)\n",
    "w_2_ricatti = create_w(idx, xhist_test_2, uhist_test_2, μhist_test_2) "
   ]
  },
  {
   "cell_type": "code",
   "execution_count": null,
   "metadata": {},
   "outputs": [],
   "source": [
    "step_ricatti_2 = w_2_ricatti - w_1 "
   ]
  },
  {
   "cell_type": "code",
   "execution_count": null,
   "metadata": {},
   "outputs": [],
   "source": [
    "newton_step_2 "
   ]
  },
  {
   "cell_type": "code",
   "execution_count": null,
   "metadata": {},
   "outputs": [],
   "source": [
    "step_ricatti_2 - newton_step_2 "
   ]
  },
  {
   "cell_type": "code",
   "execution_count": null,
   "metadata": {},
   "outputs": [],
   "source": [
    "#initial residual \n",
    "residual_0 = residual_function(w0, ρ0)"
   ]
  },
  {
   "cell_type": "code",
   "execution_count": null,
   "metadata": {},
   "outputs": [],
   "source": [
    "norm(residual_function(w_1, ρ0))"
   ]
  },
  {
   "cell_type": "code",
   "execution_count": null,
   "metadata": {},
   "outputs": [],
   "source": [
    "#number of backward and forward passes\n",
    "num_iters = 15"
   ]
  },
  {
   "cell_type": "code",
   "execution_count": null,
   "metadata": {},
   "outputs": [],
   "source": [
    "all_iters = zeros(idx.nz + idx.nμ, num_iters)"
   ]
  },
  {
   "cell_type": "code",
   "execution_count": null,
   "metadata": {},
   "outputs": [],
   "source": [
    "residuals = zeros(num_iters)\n",
    "\n",
    "all_α = zeros(num_iters)"
   ]
  },
  {
   "cell_type": "code",
   "execution_count": null,
   "metadata": {},
   "outputs": [],
   "source": [
    "all_iters[:,1] = w0\n",
    "\n",
    "residuals[1] = norm(residual_function(w0, ρ0))"
   ]
  },
  {
   "cell_type": "code",
   "execution_count": null,
   "metadata": {},
   "outputs": [],
   "source": [
    "tol = 1e-8"
   ]
  },
  {
   "cell_type": "code",
   "execution_count": null,
   "metadata": {},
   "outputs": [],
   "source": [
    "#this changes the original all_iters matrix bc the arguments are passed in by reference \n",
    "\n",
    "#this multiple iters function is for the old linesearch function \n",
    "\n",
    "# function multiple_iters(all_iters, ρ)\n",
    "#     #run a couple iterations \n",
    "    \n",
    "#     for i =1:num_iters-1\n",
    "\n",
    "#         K_test, f_test, P_test, q_test = ricatti_recursion(all_iters[:,i], ρ)\n",
    "\n",
    "#         #forward pass w no linesearch \n",
    "#         #xhist_test, uhist_test, μhist_test = forward_pass(all_iters[:,i], K_test, f_test, P_test, q_test, ρ)\n",
    "\n",
    "#         #forward pass w linesearch \n",
    "#         xhist_test, uhist_test, μhist_test, α_test = forward_pass_ls(all_iters[:,i], K_test, f_test, P_test, q_test, ρ)\n",
    "\n",
    "#         all_iters[:,i+1] = create_w(idx, xhist_test, uhist_test, μhist_test) \n",
    "\n",
    "#         #bug here \n",
    "#         #residuals[i+1] = norm(residual_function(all_iters[:,i+1], ρ0))\n",
    "\n",
    "#         residuals[i+1] = norm(residual_function(all_iters[:,i+1], ρ))\n",
    "\n",
    "#         all_α[i] = α_test\n",
    "\n",
    "#         #user defined tolerance \n",
    "#         #if residuals[i+1] < tol \n",
    "\n",
    "#         #or use the barrier parameter as a tolerance \n",
    "#         if residuals[i+1] < ρ \n",
    "\n",
    "#             return all_iters[:, 1:i+1], residuals[1:i+1]\n",
    "\n",
    "#         end\n",
    "\n",
    "#     end\n",
    "\n",
    "#     println(\"Failed to convert to tolerance\")\n",
    "#     println(\"Final residual of: \", residuals[end])\n",
    "\n",
    "# end"
   ]
  },
  {
   "cell_type": "code",
   "execution_count": null,
   "metadata": {},
   "outputs": [],
   "source": [
    "function multiple_iters(all_iters, ρ)\n",
    "    #run a couple iterations \n",
    "    \n",
    "    for i =1:num_iters-1\n",
    "\n",
    "        K_test, f_test, P_test, q_test = ricatti_recursion(all_iters[:,i], ρ)\n",
    "\n",
    "        #forward pass w no linesearch \n",
    "        #xhist_test, uhist_test, μhist_test = forward_pass(all_iters[:,i], K_test, f_test, P_test, q_test, ρ)\n",
    "\n",
    "        #forward pass w linesearch \n",
    "        new_w = forward_pass_ls(all_iters[:,i], K_test, f_test, P_test, q_test, ρ)\n",
    "\n",
    "        all_iters[:,i+1] = new_w\n",
    "\n",
    "        #bug here \n",
    "        #residuals[i+1] = norm(residual_function(all_iters[:,i+1], ρ0))\n",
    "\n",
    "        residuals[i+1] = norm(residual_function(all_iters[:,i+1], ρ))\n",
    "\n",
    "        #all_α[i] = α_test\n",
    "\n",
    "        #user defined tolerance \n",
    "        #if residuals[i+1] < tol \n",
    "\n",
    "        #or use the barrier parameter as a tolerance \n",
    "        if residuals[i+1] < ρ \n",
    "\n",
    "            return all_iters[:, 1:i+1], residuals[1:i+1]\n",
    "\n",
    "        end\n",
    "\n",
    "    end\n",
    "\n",
    "    println(\"Failed to convert to tolerance\")\n",
    "    println(\"Final residual of: \", residuals[end])\n",
    "\n",
    "end"
   ]
  },
  {
   "cell_type": "code",
   "execution_count": null,
   "metadata": {},
   "outputs": [],
   "source": [
    "#this is working!\n",
    "all_iters_test, residuals_test = multiple_iters(all_iters, ρ0)"
   ]
  },
  {
   "cell_type": "code",
   "execution_count": null,
   "metadata": {},
   "outputs": [],
   "source": [
    "#maximum iterations of decreasing the barrier \n",
    "max_iters = 6"
   ]
  },
  {
   "cell_type": "code",
   "execution_count": null,
   "metadata": {},
   "outputs": [],
   "source": [
    "all_residuals_iter = zeros(num_iters)"
   ]
  },
  {
   "cell_type": "code",
   "execution_count": null,
   "metadata": {},
   "outputs": [],
   "source": [
    "res_tol = 1e-8"
   ]
  },
  {
   "cell_type": "code",
   "execution_count": null,
   "metadata": {},
   "outputs": [],
   "source": [
    "#here we could use the barrier as the tolerance for each of the solves \n",
    "#and use the final trajectories of each solve as an initial guess for the next solve \n",
    "\n",
    "for k = 1:max_iters \n",
    "\n",
    "    #create a blank all_iters matrix \n",
    "    all_iters = zeros(idx.nz + idx.nμ, num_iters)\n",
    "\n",
    "    #fill in the first column with the initial condition \n",
    "\n",
    "    all_iters[:,1] = w0\n",
    "\n",
    "    #we will be updating w0 and ρ as we siteratively solve the problem to tighter barrier parameters\n",
    "\n",
    "    #calculates the trajectory that satisfied the residuals \n",
    "    all_iters_k, residuals_k = multiple_iters(all_iters, ρ0)\n",
    "\n",
    "    w0 = all_iters_k[:,end]\n",
    "\n",
    "    #true kkt res \n",
    "\n",
    "    println(\"kkt res iteration \", k, \": \", residuals_k[end])\n",
    "\n",
    "    ρ0 = 0.1*ρ0\n",
    "\n",
    "\n",
    "    #when we pass in zero as the penalty, we get the original kkt conditions \n",
    "    # if norm(residual_function(w0, 0)) < res_tol \n",
    "\n",
    "    #     println(\"converged \")\n",
    "\n",
    "    # else \n",
    "    #     #decrease barrier paramter \n",
    "    #     ρ0 = 0.1*ρ0\n",
    "\n",
    "    # end\n",
    "\n",
    "    #this logic is for the legit convergence \n",
    "    # if norm(kkt_conditions(traj)) < tol \n",
    "\n",
    "    #     println(\"converged to the true KKT conditions\")\n",
    "\n",
    "    # else \n",
    "    #     #decrease the barrier paramter \n",
    "    #     ρ0 = 0.1*ρ0\n",
    "\n",
    "    # end \n",
    "    \n",
    "\n",
    "end"
   ]
  },
  {
   "cell_type": "code",
   "execution_count": null,
   "metadata": {},
   "outputs": [],
   "source": []
  },
  {
   "cell_type": "code",
   "execution_count": null,
   "metadata": {},
   "outputs": [],
   "source": [
    "w0 "
   ]
  },
  {
   "cell_type": "code",
   "execution_count": null,
   "metadata": {},
   "outputs": [],
   "source": [
    "nu "
   ]
  },
  {
   "cell_type": "code",
   "execution_count": null,
   "metadata": {},
   "outputs": [],
   "source": [
    "x_solution_traj = zeros(nx, N)\n",
    "\n",
    "u_solution_traj = zeros(nc, N-1)\n",
    "\n",
    "x_solution_traj[:,1] = x0\n",
    "\n",
    "for i=1:N-1\n",
    "\n",
    "    x_solution_traj[:, i+1] = w0[idx.x[i]]\n",
    "    u_solution_traj[1, i] = w0[idx.u[i]][1]\n",
    "\n",
    "\n",
    "end"
   ]
  },
  {
   "cell_type": "code",
   "execution_count": null,
   "metadata": {},
   "outputs": [],
   "source": [
    "plot(x_solution_traj')"
   ]
  },
  {
   "cell_type": "code",
   "execution_count": null,
   "metadata": {},
   "outputs": [],
   "source": [
    "plot(u_solution_traj') "
   ]
  },
  {
   "cell_type": "code",
   "execution_count": null,
   "metadata": {},
   "outputs": [],
   "source": [
    "w0[idx.μ[7]]"
   ]
  },
  {
   "cell_type": "code",
   "execution_count": null,
   "metadata": {},
   "outputs": [],
   "source": []
  }
 ],
 "metadata": {
  "kernelspec": {
   "display_name": "Julia 1.10.0",
   "language": "julia",
   "name": "julia-1.10"
  },
  "language_info": {
   "file_extension": ".jl",
   "mimetype": "application/julia",
   "name": "julia",
   "version": "1.10.0"
  }
 },
 "nbformat": 4,
 "nbformat_minor": 2
}
