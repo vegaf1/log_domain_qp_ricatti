{
 "cells": [
  {
   "cell_type": "code",
   "execution_count": null,
   "metadata": {},
   "outputs": [],
   "source": [
    "using LinearAlgebra\n",
    "using ForwardDiff \n",
    "using SparseArrays\n",
    "using Plots"
   ]
  },
  {
   "cell_type": "code",
   "execution_count": null,
   "metadata": {},
   "outputs": [],
   "source": [
    "#this is working"
   ]
  },
  {
   "cell_type": "code",
   "execution_count": null,
   "metadata": {},
   "outputs": [],
   "source": [
    "#nx - size of state \n",
    "#n_eq - number of equality constraints \n",
    "#n_ineq - number of inequality constraints \n",
    "#fill ratio- (0,1], determines how sparse the QP is \n",
    "\n",
    "function gen_sparse_qp(nx, n_eq, n_ineq, fill_ratio)\n",
    "\n",
    "    #QP of the form: \n",
    "    #0.5*x'*Q*x + q'*x \n",
    "\n",
    "    #transformed the typical equality constraint Gx <= h\n",
    "    #into an equality by introducing the slack variable s = h - Gx\n",
    "    #and we have a new inequality s >=0\n",
    "\n",
    "    #equality constraint \n",
    "    # Ax-b = 0\n",
    "    # Gx + s - h = 0\n",
    "\n",
    "    #inequality constraint \n",
    "    # s >=0\n",
    "\n",
    "    #generating the QP with the solution (an x that satisfies the KKT conditions)\n",
    "\n",
    "    #μ is the dual for the equality constraints \n",
    "    #λ is the dual for the inequality constraints \n",
    "\n",
    "    #KKT conditions \n",
    "\n",
    "    #stationarity: \n",
    "    #Qx + q + A'*μ + G'*λ\n",
    "\n",
    "    #primal feasibility\n",
    "    # Ax - b = 0\n",
    "    # Gx + s - h = 0 \n",
    "    # s >= 0\n",
    "\n",
    "    #dual feasibility \n",
    "    # λ >=0 \n",
    "\n",
    "    # complimentarity condition \n",
    "    # λ_i*s_i = 0\n",
    "\n",
    "\n",
    "    #create Q (quadratic cost scaling matrix)\n",
    "    Q = sprandn(nx, nx, fill_ratio)\n",
    "\n",
    "    #adding the identity ensures it is positive semidefnite\n",
    "    Q = Q'*Q + I \n",
    "\n",
    "    #create A matrix (equality constraint)\n",
    "    #Ax = b\n",
    "    A = sprandn(n_eq, nx, fill_ratio)\n",
    "    A[1:n_eq,1:n_eq] += I \n",
    "\n",
    "    #create G matrix (inequality constraint)\n",
    "    G = sprandn(n_ineq, nx, fill_ratio)\n",
    "\n",
    "    #primal variable \n",
    "    x = randn(nx)\n",
    "\n",
    "    #dual variable on the equality constraints \n",
    "    μ = randn(n_eq)\n",
    "\n",
    "\n",
    "\n",
    "    #logic from kevin \n",
    "    #######################################################################################\n",
    "    #slack variable \n",
    "    s = zeros(n_ineq)\n",
    "\n",
    "    #dual variable on the inequality constraints \n",
    "    λ = zeros(n_ineq)\n",
    "\n",
    "    #if s is violating the constraint (s < 0), then the dual variable remains zero \n",
    "    #this logic is to ensure s and z satisfy the complimentarity condition \n",
    "\n",
    "    for i = 1:n_ineq\n",
    "        if randn() < 0 \n",
    "            s[i] = abs(randn())\n",
    "        else\n",
    "            λ[i] = abs(randn())\n",
    "        end\n",
    "    end\n",
    "    ################################################################################################\n",
    "\n",
    "    #logic from John\n",
    "    #slack variable \n",
    "    # s = abs.(randn(n_ineq))\n",
    "\n",
    "    # #dual variable on the inequality constraints \n",
    "    # λ = abs.(randn(n_ineq))\n",
    "\n",
    "\n",
    "    # for i in 1:n_ineq\n",
    "    #     if rand() > 0.5\n",
    "    #         s[i] = 0\n",
    "    #     else\n",
    "    #         λ[i] = 0\n",
    "    #     end \n",
    "        \n",
    "    # end\n",
    "\n",
    "\n",
    "    #create right hand size of equality constraint \n",
    "    b = A * x \n",
    "\n",
    "    #create right hand size of inequality constraint \n",
    "    h = G * x + s \n",
    "\n",
    "    #set q in such a way that it makes the stationarity condition equal to zero \n",
    "    q = -(Q*x + A'*μ + G'*λ)\n",
    "\n",
    "    #check that all the KKT conditions are satisfied \n",
    "\n",
    "    #stationarity condition \n",
    "    @assert norm(Q*x + q + A'*μ + G'*λ) < 1e-10\n",
    "    \n",
    "    #complimentarity condition \n",
    "    @assert abs(s'*λ) < 1e-10\n",
    "    \n",
    "    #primal feasibility \n",
    "    @assert minimum(s) >= 0 \n",
    "    @assert norm(A*x - b) < 1e-10 \n",
    "    @assert norm(G*x + s - h) < 1e-10\n",
    "    \n",
    "    #dual feasibility \n",
    "    @assert minimum(λ) >= 0 \n",
    "\n",
    "    println(\"created sparse QP successfully\")\n",
    "\n",
    "    Q, q, A, b, G, h, x, λ, μ, s\n",
    "\n",
    "end"
   ]
  },
  {
   "cell_type": "code",
   "execution_count": null,
   "metadata": {},
   "outputs": [],
   "source": [
    "#works for [3,3,2]\n",
    "#works for [100, 100, 120]\n",
    "#works for [1000, 1000, 1200]\n",
    "\n",
    "#size of the state \n",
    "nx = 30\n",
    "\n",
    "#number of equality constraints \n",
    "n_eq = 20\n",
    "\n",
    "#number of inequality constraints \n",
    "n_ineq = 20\n",
    "\n",
    "#this creates a dense QP since the ratio is 1.0\n",
    "Q, q, A, b, G, h, x_solution, λ_solution, μ_solution, s_solution = gen_sparse_qp(nx, n_eq, n_ineq, 1.0)\n",
    "Q = Matrix(Q)\n",
    "A = Matrix(A)\n",
    "G = Matrix(G)\n",
    "\n",
    "#set up the problem parameters into a tuple\n",
    "prob = (Q = Q, q = q, A = A, b=b, G = G, h=h, nx = nx, n_eq=n_eq, n_ineq=n_ineq)"
   ]
  },
  {
   "cell_type": "code",
   "execution_count": null,
   "metadata": {},
   "outputs": [],
   "source": [
    "G*x_solution + s_solution - h"
   ]
  },
  {
   "cell_type": "code",
   "execution_count": null,
   "metadata": {},
   "outputs": [],
   "source": [
    "s_solution"
   ]
  },
  {
   "cell_type": "code",
   "execution_count": null,
   "metadata": {},
   "outputs": [],
   "source": [
    "λ_solution "
   ]
  },
  {
   "cell_type": "code",
   "execution_count": null,
   "metadata": {},
   "outputs": [],
   "source": [
    "#for the log domain, we eliminate the inequality constraints through a change of variables. "
   ]
  },
  {
   "cell_type": "code",
   "execution_count": null,
   "metadata": {},
   "outputs": [],
   "source": [
    "#residual function are the 3 KKT conditions that remain in the log domian \n",
    "\n",
    "#state z = [ x\n",
    "#            μ\n",
    "#            σ ]\n",
    "\n",
    "#penalty parameter κ\n",
    "\n",
    "function residual(prob, z, κ)\n",
    "\n",
    "    #state \n",
    "    x = z[1:prob.nx] \n",
    "\n",
    "    #equality constraints dual \n",
    "    μ = z[prob.nx+1: prob.nx+prob.n_eq]\n",
    "\n",
    "    #slack variable\n",
    "    σ = z[prob.nx+prob.n_eq+1:end]\n",
    "\n",
    "\n",
    "    res = [\n",
    "           #stationarity condition \n",
    "           prob.Q*x + prob.q + prob.A'*μ + prob.G'*(sqrt(κ)*exp.(σ)); \n",
    "\n",
    "           #equality constraints\n",
    "           prob.A*x - prob.b; \n",
    "\n",
    "           G*x + sqrt(κ)*exp.(-σ) - prob.h\n",
    "           \n",
    "          ]\n",
    "    \n",
    "    return res\n",
    "\n",
    "end"
   ]
  },
  {
   "cell_type": "code",
   "execution_count": null,
   "metadata": {},
   "outputs": [],
   "source": [
    "# z - state [x, μ, σ]\n",
    "# κ - kappa \n",
    "#checked with forwardDiff\n",
    "function residual_jacobian(prob, z, κ)\n",
    "\n",
    "    #slack variable\n",
    "    σ = z[prob.nx+prob.n_eq+1:end]\n",
    "    \n",
    "    res_jac = [\n",
    "                \n",
    "                Q       A'                              G'*diagm(sqrt(κ)*exp.(σ)); \n",
    "                A       zeros(prob.n_eq, prob.n_eq)     zeros(prob.n_eq, prob.n_ineq); \n",
    "                G       zeros(prob.n_ineq, prob.n_eq)   -diagm(sqrt(κ)*exp.(-σ))\n",
    "\n",
    "              ]\n",
    "\n",
    "    #println(size(res_jac), \" \", rank(res_jac), \" \", cond(res_jac))\n",
    "    return res_jac\n",
    "\n",
    "end"
   ]
  },
  {
   "cell_type": "code",
   "execution_count": null,
   "metadata": {},
   "outputs": [],
   "source": []
  },
  {
   "cell_type": "code",
   "execution_count": null,
   "metadata": {},
   "outputs": [],
   "source": [
    "function newton_step(prob, z, κ)\n",
    "\n",
    "    Δz = -residual_jacobian(prob, z, κ)\\residual(prob, z, κ)\n",
    "\n",
    "    return Δz\n",
    "\n",
    "end"
   ]
  },
  {
   "cell_type": "code",
   "execution_count": null,
   "metadata": {},
   "outputs": [],
   "source": [
    "function newtons_method_solve(prob, z, κ, max_iters)\n",
    "\n",
    "    #define parameters for linesearch \n",
    "    b = 1e-1\n",
    "    c = 0.5\n",
    "\n",
    "\n",
    "    #initialize the step direction to 1\n",
    "    α = 1\n",
    "\n",
    "    #matrix to save all the states per iteration \n",
    "    z_all = zeros(size(z)[1], max_iters)\n",
    "\n",
    "    all_residuals = zeros(max_iters)\n",
    "\n",
    "    #set initial state \n",
    "    z_all[:,1] = z\n",
    "\n",
    "    #set initial residual\n",
    "    all_residuals[1] = norm(residual(prob, z_all[:,1], κ))\n",
    "\n",
    "    #set the iteration counter\n",
    "    iters = 1\n",
    "\n",
    "    for i = 1:max_iters-1\n",
    "\n",
    "        #this was the fix\n",
    "        α = 1\n",
    "\n",
    "        iters += 1\n",
    "\n",
    "        #calculate the step \n",
    "        Δz = newton_step(prob, z_all[:,i], κ)\n",
    "        # Δz = - residual_jacobian(prob, z_all[:,i], κ) \\ residual(prob, z_all[:,i], κ)\n",
    "        #println(norm(residual_jacobian(prob, z_all[:,i], κ)*-Δz - residual(prob, z_all[:,i], κ)))\n",
    "        #println(sort(abs.(eigvals(residual_jacobian(prob, z_all[:,i], κ)))))\n",
    "\n",
    "        #apply a linesearch for up to 10 iterations \n",
    "        for k = 1:10\n",
    "\n",
    "            #armijo linesearch\n",
    "            #compares the difference in residual of the new step to the reduction using a linear approximation of the function \n",
    "            # if norm(residual(prob, z_all[:,i] + α*Δz, κ)) >  norm(residual(prob, z_all[:,i], κ)) #+ b*α*residual_jacobian(prob, z_all[:,i], κ)'*Δz)\n",
    "            if norm(residual(prob, z_all[:,i] + α*Δz, κ)) >  norm(residual(prob, z_all[:,i], κ) + b*α*residual_jacobian(prob, z_all[:,i], κ)'*Δz)\n",
    "                \n",
    "                println(\"in here\")\n",
    "                #reduce the step size\n",
    "                α = c*α\n",
    "\n",
    "            else\n",
    "                \n",
    "                break\n",
    "\n",
    "            end\n",
    "\n",
    "        end\n",
    "\n",
    "\n",
    "        #update the state\n",
    "        z_all[:,i+1] = z_all[:,i] + α*Δz \n",
    "\n",
    "        #check the norm of the residual on the updated state \n",
    "        all_residuals[i+1] = norm(residual(prob, z_all[:,i+1], κ))\n",
    "\n",
    "        println(\"this is all residuals: \", all_residuals[i+1])\n",
    "        \n",
    "        #if we achieve the tolerance, then break the loop \n",
    "        if all_residuals[i+1] < newton_tol \n",
    "\n",
    "            println(\"tolerance achieved\")\n",
    "            break\n",
    "\n",
    "        end\n",
    "\n",
    "    end\n",
    "\n",
    "    #truncate to just the iteration count \n",
    "    z_all = z_all[:, 1:iters]\n",
    "\n",
    "    all_residuals = all_residuals[1:iters]\n",
    "\n",
    "    return z_all, all_residuals\n",
    "end"
   ]
  },
  {
   "cell_type": "code",
   "execution_count": null,
   "metadata": {},
   "outputs": [],
   "source": [
    "#set the tolerance \n",
    "#works with 1e-6\n",
    "newton_tol = 1e-8"
   ]
  },
  {
   "cell_type": "code",
   "execution_count": null,
   "metadata": {},
   "outputs": [],
   "source": [
    "#solve test \n",
    "#newton seems to be working\n",
    "# z0 = randn(nx + n_eq + n_ineq)\n",
    "# κ0 = 1\n",
    "# max_iters = 20\n",
    "\n",
    "\n",
    "# z_all, all_residuals = newtons_method_solve(prob, z0, κ0, max_iters)"
   ]
  },
  {
   "cell_type": "code",
   "execution_count": null,
   "metadata": {},
   "outputs": [],
   "source": [
    "#initial guess\n",
    "z0 = randn(nx + n_eq + n_ineq)\n",
    "κ0 = 1\n",
    "max_iters = 20\n",
    "\n",
    "#works for 3\n",
    "solve_iters = 10\n",
    "\n",
    "#penalty will be divided by this after every iteration\n",
    "reduction = 10\n",
    "\n",
    "initial_guesses = zeros(nx + n_eq + n_ineq, solve_iters)\n",
    "\n",
    "penalty_parameters = zeros(solve_iters)\n",
    "\n",
    "penalty_parameters[1] = κ0\n",
    "\n",
    "#initial guess for the first solve \n",
    "initial_guesses[:,1] = z0\n",
    "\n",
    "#there is a newton solve for every penalty (central path) parameter κ\n",
    "for i=1:solve_iters-1\n",
    "\n",
    "    z_all, all_residuals = newtons_method_solve(prob, initial_guesses[:,i], penalty_parameters[i], max_iters)\n",
    "\n",
    "    #the initial guess for the next iteration is the solution of the previous iteration \n",
    "    initial_guesses[:,i+1] = z_all[:,end] \n",
    "\n",
    "    #penalty for the next term is reduced \n",
    "    penalty_parameters[i+1] = penalty_parameters[i]/reduction\n",
    "\n",
    "end\n"
   ]
  },
  {
   "cell_type": "code",
   "execution_count": null,
   "metadata": {},
   "outputs": [],
   "source": [
    "initial_guesses "
   ]
  },
  {
   "cell_type": "code",
   "execution_count": null,
   "metadata": {},
   "outputs": [],
   "source": [
    "penalty_parameters "
   ]
  },
  {
   "cell_type": "code",
   "execution_count": null,
   "metadata": {},
   "outputs": [],
   "source": [
    "#the solution is the final solve (initial guess update)\n",
    "solver_solution = initial_guesses[:,end]"
   ]
  },
  {
   "cell_type": "code",
   "execution_count": null,
   "metadata": {},
   "outputs": [],
   "source": [
    "#the residual of the solution is extremely small\n",
    "plot(residual(prob, solver_solution, penalty_parameters[end-1])) "
   ]
  },
  {
   "cell_type": "code",
   "execution_count": null,
   "metadata": {},
   "outputs": [],
   "source": [
    "#this is the true solution. the one generated with the QP \n",
    "x_solution"
   ]
  },
  {
   "cell_type": "code",
   "execution_count": null,
   "metadata": {},
   "outputs": [],
   "source": [
    "#lambdas from the solver \n",
    "λ_solver = sqrt(penalty_parameters[end-1])*exp.(solver_solution[nx+n_eq+1:end])"
   ]
  },
  {
   "cell_type": "code",
   "execution_count": null,
   "metadata": {},
   "outputs": [],
   "source": [
    "#k=0 is not feasible. always evaluate at the final penalty "
   ]
  },
  {
   "cell_type": "code",
   "execution_count": null,
   "metadata": {},
   "outputs": [],
   "source": [
    "#compare solution of state to the true solution\n",
    "#tolerance to 1e-6\n",
    "\n",
    "#struggles for tighter tolerances \n",
    "primal_solution_accuracy = norm(solver_solution[1:nx] - x_solution)"
   ]
  },
  {
   "cell_type": "code",
   "execution_count": null,
   "metadata": {},
   "outputs": [],
   "source": [
    "dual_equality_solution_accuracy = norm(solver_solution[prob.nx+1: prob.nx+prob.n_eq] - μ_solution ) "
   ]
  },
  {
   "cell_type": "code",
   "execution_count": null,
   "metadata": {},
   "outputs": [],
   "source": [
    "dual_inequality_solution_accuracy = norm(λ_solver - λ_solution) "
   ]
  },
  {
   "cell_type": "code",
   "execution_count": null,
   "metadata": {},
   "outputs": [],
   "source": [
    "#this is the initial residual\n",
    "norm(residual(prob, z0, κ0))  "
   ]
  },
  {
   "cell_type": "code",
   "execution_count": null,
   "metadata": {},
   "outputs": [],
   "source": [
    "#this is the final residual\n",
    "norm(residual(prob, solver_solution, penalty_parameters[end-1]))  "
   ]
  },
  {
   "cell_type": "code",
   "execution_count": null,
   "metadata": {},
   "outputs": [],
   "source": [
    "#residual doesn't go down to tight tolerances, stays in the 100's magnitude but the alg still finds the correct state. \n",
    "#maybe it is the scaling of the problem \n",
    "\n",
    "#how do I get the solution, if the kkt optimality conditions aren't being solved to tight tolerances? "
   ]
  },
  {
   "cell_type": "code",
   "execution_count": null,
   "metadata": {},
   "outputs": [],
   "source": []
  }
 ],
 "metadata": {
  "kernelspec": {
   "display_name": "Julia 1.10.0",
   "language": "julia",
   "name": "julia-1.10"
  },
  "language_info": {
   "file_extension": ".jl",
   "mimetype": "application/julia",
   "name": "julia",
   "version": "1.10.0"
  }
 },
 "nbformat": 4,
 "nbformat_minor": 2
}
